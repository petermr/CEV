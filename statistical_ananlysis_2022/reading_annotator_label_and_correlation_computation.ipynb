{
  "nbformat": 4,
  "nbformat_minor": 0,
  "metadata": {
    "colab": {
      "name": "reading annotator label and correlation computation.ipynb",
      "provenance": [],
      "mount_file_id": "1F3w-SyBE1XcHKqIH-HxQldv1aI_nKUy6",
      "authorship_tag": "ABX9TyMk3/fzd6p6spz+kNl6lVEt",
      "include_colab_link": true
    },
    "kernelspec": {
      "name": "python3",
      "display_name": "Python 3"
    },
    "language_info": {
      "name": "python"
    }
  },
  "cells": [
    {
      "cell_type": "markdown",
      "metadata": {
        "id": "view-in-github",
        "colab_type": "text"
      },
      "source": [
        "<a href=\"https://colab.research.google.com/github/petermr/CEVOpen/blob/master/statistical_ananlysis_2022/reading_annotator_label_and_correlation_computation.ipynb\" target=\"_parent\"><img src=\"https://colab.research.google.com/assets/colab-badge.svg\" alt=\"Open In Colab\"/></a>"
      ]
    },
    {
      "cell_type": "code",
      "execution_count": 2,
      "metadata": {
        "id": "Roi53uKdT8Io"
      },
      "outputs": [],
      "source": [
        "#### import pandas and other required packages\n",
        "import pandas as pd\n",
        "import numpy as np\n",
        "import os\n",
        "from sklearn.metrics import confusion_matrix, cohen_kappa_score\n",
        "import random"
      ]
    },
    {
      "cell_type": "markdown",
      "source": [
        "# Demostration of correlation Computation on Demo Data.\n",
        "This is a demo notebook which provide a glimse of statistical compuation that we are going to do after we have the data from the annotaters.\n",
        "\n",
        "#Description of processes in the cell below:\n",
        "Here lets assume that we have 5 annotaters,namely annotater1 to annotater5. we create dataframe consisting the data from the annotators.\n",
        "\n",
        "The cell below shows how the df is generated. If you want to explore and learn more about pandas please check this out [here](https://github.com/petermr/CEVOpen/blob/master/fun_with_pandas.ipynb)\n",
        "\n",
        "In this notebook we are experimenting how to compute the correlation between two categorical columns by using:\n",
        "1. [correlation coefficient ](https://pandas.pydata.org/docs/reference/api/pandas.DataFrame.corr.html)\n",
        "2. [Confusion Matrix](https://scikit-learn.org/stable/modules/generated/sklearn.metrics.confusion_matrix.html)\n",
        "3. [Cohens kappa](https://scikit-learn.org/stable/modules/generated/sklearn.metrics.cohen_kappa_score.html)"
      ],
      "metadata": {
        "id": "kGfLiU__eCld"
      }
    },
    {
      "cell_type": "code",
      "source": [
        "#### import pandas and other required packages\n",
        "import pandas as pd\n",
        "import numpy as np\n",
        "from sklearn.metrics import confusion_matrix, cohen_kappa_score\n",
        "##### initializing a dataframe\n",
        "data= pd.DataFrame()\n",
        "\n",
        "##### labels provided by the annotator\n",
        "anno_1=['yes', 'no', 'no', 'no','yes']\n",
        "anno_2=['yes', 'no','yes', 'no', 'no']\n",
        "anno_3=['yes', 'no','yes','yes','yes']\n",
        "anno_4=['yes', 'no', 'no', 'no','yes']    # same as anno_1\n",
        "anno_5=['no', 'yes', 'yes', 'yes','no']   # offosite of anno_1\n",
        "\n",
        "#### adding labels provided by the annotators to the empty pandas dataframe 'data'\n",
        "data['Annotator_1']= anno_1\n",
        "data['Annotator_2']= anno_2\n",
        "data['Annotator_3']= anno_3\n",
        "data['Annotator_4']=anno_4\n",
        "data['Annotator_5']=anno_5\n",
        "print('data:\\n', data)\n",
        "\n",
        "\n",
        "###### Replacing 'yes' and 'no' in the dataframe with 1 and 0 resoectively for \n",
        "######              further computing the correlation coefficient \n",
        "data.replace(('yes', 'no'), (1, 0), inplace=True)\n",
        "print('\\n converted_data:\\n', data)\n",
        "\n",
        "\n",
        "#### printing  the correlation coefficient computed using Pearson Method.\n",
        "print('\\n Correlation matrix Pearson:\\n', data.corr(method = 'pearson'))\n",
        "# from sklearn.metrics import matthews_corrcoef\n",
        "# print('Correlation matrix using sklearn  between Annotator 1 and Annotator 2:\\n',matthews_corrcoef(data['Annotator_1'].to_numpy(),data['Annotator_2'].to_numpy()) )\n",
        "# print('Correlation matrix using sklearn between Annotator 2 and Annotator 3:\\n',matthews_corrcoef(data['Annotator_2'].to_numpy(),data['Annotator_3'].to_numpy()) )\n",
        "# print('Correlation matrix kendall:\\n', data.corr(method = 'kendall'))\n",
        "# print('Correlation matrix spearman:\\n', data.corr(method = 'spearman'))\n",
        "\n",
        "\n",
        "#### printing  the confusion matrix:\n",
        "print('\\n confuion matrix between Annotator_1 and Annotator_2:\\n',pd.DataFrame(confusion_matrix(anno_1,anno_2, labels=['yes', 'no']), index=['yes', 'no'], columns=['yes', 'no']))\n",
        "\n",
        "\n",
        "#### printing  the cohen kappa  matrix:\n",
        "#sklearn.metrics.cohen_kappa_score(y1, y2, *, labels=None, weights=None, sample_weight=None)\n",
        "cohen_kappa_matrix = np.zeros((5,5))\n",
        "annotater_list = [anno_1,anno_2,anno_3,anno_4,anno_5]\n",
        "for i, a1 in enumerate(annotater_list):\n",
        "  for j, a2 in enumerate(annotater_list):\n",
        "    cohen_kappa_matrix[i][j] = cohen_kappa_score(a1, a2)\n",
        "    #print(i,j,cohen_kappa_score(a1, a2))\n",
        "\n",
        "print('\\n cohens kappa matrix:\\n',pd.DataFrame(cohen_kappa_matrix , index=['Annotator_1', 'Annotator_2','Annotator_3', 'Annotator_4','Annotator_5'], columns=['Annotator_1', 'Annotator_2','Annotator_3', 'Annotator_4','Annotator_5']))\n",
        "\n"
      ],
      "metadata": {
        "colab": {
          "base_uri": "https://localhost:8080/"
        },
        "id": "lL3ddSxs_Xmg",
        "outputId": "3b10dc79-4ecd-4695-ced4-cc16caa6c323"
      },
      "execution_count": null,
      "outputs": [
        {
          "output_type": "stream",
          "name": "stdout",
          "text": [
            "data:\n",
            "   Annotator_1 Annotator_2 Annotator_3 Annotator_4 Annotator_5\n",
            "0         yes         yes         yes         yes          no\n",
            "1          no          no          no          no         yes\n",
            "2          no         yes         yes          no         yes\n",
            "3          no          no         yes          no         yes\n",
            "4         yes          no         yes         yes          no\n",
            "\n",
            " converted_data:\n",
            "    Annotator_1  Annotator_2  Annotator_3  Annotator_4  Annotator_5\n",
            "0            1            1            1            1            0\n",
            "1            0            0            0            0            1\n",
            "2            0            1            1            0            1\n",
            "3            0            0            1            0            1\n",
            "4            1            0            1            1            0\n",
            "\n",
            " Correlation matrix Pearson:\n",
            "              Annotator_1  Annotator_2  Annotator_3  Annotator_4  Annotator_5\n",
            "Annotator_1     1.000000     0.166667     0.408248     1.000000    -1.000000\n",
            "Annotator_2     0.166667     1.000000     0.408248     0.166667    -0.166667\n",
            "Annotator_3     0.408248     0.408248     1.000000     0.408248    -0.408248\n",
            "Annotator_4     1.000000     0.166667     0.408248     1.000000    -1.000000\n",
            "Annotator_5    -1.000000    -0.166667    -0.408248    -1.000000     1.000000\n",
            "\n",
            " confuion matrix between Annotator_1 and Annotator_2:\n",
            "      yes  no\n",
            "yes    1   1\n",
            "no     1   2\n",
            "\n",
            " cohens kappa matrix:\n",
            "              Annotator_1  Annotator_2  Annotator_3  Annotator_4  Annotator_5\n",
            "Annotator_1     1.000000     0.166667     0.285714     1.000000    -0.923077\n",
            "Annotator_2     0.166667     1.000000     0.285714     0.166667    -0.153846\n",
            "Annotator_3     0.285714     0.285714     1.000000     0.285714    -0.363636\n",
            "Annotator_4     1.000000     0.166667     0.285714     1.000000    -0.923077\n",
            "Annotator_5    -0.923077    -0.153846    -0.363636    -0.923077     1.000000\n"
          ]
        }
      ]
    },
    {
      "cell_type": "markdown",
      "source": [
        "# Correlation Computation on EXAMPLE of Original Data.\n",
        "\n",
        "---\n",
        "\n",
        "\n",
        "\n",
        "---\n",
        "\n",
        "\n",
        "Original Data is not yet made public. But we have used a similar looking data for the experimentation.\n",
        "\n",
        "\n",
        "---\n",
        "\n",
        "\n",
        "#### **Description of EXAMPLE Data:**\n",
        "No of Annotators are 7\n",
        "\n",
        "No of fig labeled are 30\n",
        "\n",
        "\n",
        "\n",
        "---\n",
        "\n",
        "\n",
        "\n",
        "The methodolgy we are using is similar to the above cell. Though the data here is very similar to original data.\n",
        "\n",
        "The function **create_df **----> helps in genarating pandas dataframe from all the csv files provided by annotators of a concerned class_label(ex: Terpene)\n",
        "\n",
        "The cell below shows how you can extract labels from annotators csv for the **Terpene** class and do statistical computation to analyse the performance of each annotator in comparision to another.\n",
        "\n",
        "\n",
        "THe similar approach can be done to obtain information regarding other labels i.e. Pathway, Metabolic, Pre-Terpene.\n",
        "\n"
      ],
      "metadata": {
        "id": "et5pAJWmeLvg"
      }
    },
    {
      "cell_type": "code",
      "source": [
        "#### downloading LOOK-ALIKE Data:\n",
        "import gdown\n",
        "url = 'https://drive.google.com/uc?id=119f8fhsX3bKyIII9fWoKVKkDoYDBMeSI'\n",
        "output = 'files.zip'\n",
        "gdown.download(url, output, quiet=False)\n",
        "!unzip /content/files.zip"
      ],
      "metadata": {
        "colab": {
          "base_uri": "https://localhost:8080/"
        },
        "id": "CwJmd5_tondc",
        "outputId": "e432468f-7f5d-459b-b0fb-f2edd286b87f"
      },
      "execution_count": 3,
      "outputs": [
        {
          "output_type": "stream",
          "name": "stderr",
          "text": [
            "Downloading...\n",
            "From: https://drive.google.com/uc?id=119f8fhsX3bKyIII9fWoKVKkDoYDBMeSI\n",
            "To: /content/files.zip\n",
            "100%|██████████| 9.25k/9.25k [00:00<00:00, 833kB/s]"
          ]
        },
        {
          "output_type": "stream",
          "name": "stdout",
          "text": [
            "Archive:  /content/files.zip\n",
            "  inflating: look_alike_data/annotators_label/annotations_from_annotators5.csv  \n",
            "  inflating: look_alike_data/annotators_label/annotations_from_annotators4.csv  \n",
            "  inflating: look_alike_data/annotators_label/annotations_from_annotators2.csv  \n",
            "  inflating: look_alike_data/annotators_label/annotations_from_annotators3.csv  \n",
            "  inflating: look_alike_data/annotators_label/annotations_from_annotators6.csv  \n",
            "  inflating: look_alike_data/annotators_label/annotations_from_annotators7.csv  \n",
            "  inflating: look_alike_data/mapping_info/mapping_info_for_calss_label_Metabolic.csv  \n",
            "  inflating: look_alike_data/mapping_info/mapping_info_for_calss_label_Pre-Terpene.csv  \n",
            "  inflating: look_alike_data/mapping_info/mapping_info_for_calss_label_Terpene.csv  \n",
            "  inflating: look_alike_data/mapping_info/mapping_info_for_calss_label_Pathway.csv  \n",
            "  inflating: look_alike_data/annotators_label/annotations_from_annotators1.csv  \n"
          ]
        },
        {
          "output_type": "stream",
          "name": "stderr",
          "text": [
            "\n"
          ]
        }
      ]
    },
    {
      "cell_type": "code",
      "source": [
        "!git clone https://github.com/petermr/CEVOpen.git"
      ],
      "metadata": {
        "colab": {
          "base_uri": "https://localhost:8080/"
        },
        "id": "66jwTKU9iPUc",
        "outputId": "769a007b-a1be-454d-a2a6-94e16a94f34c"
      },
      "execution_count": 1,
      "outputs": [
        {
          "output_type": "stream",
          "name": "stdout",
          "text": [
            "Cloning into 'CEVOpen'...\n",
            "remote: Enumerating objects: 729341, done.\u001b[K\n",
            "remote: Counting objects: 100% (952/952), done.\u001b[K\n",
            "remote: Compressing objects: 100% (853/853), done.\u001b[K\n",
            "remote: Total 729341 (delta 227), reused 687 (delta 83), pack-reused 728389\u001b[K\n",
            "Receiving objects: 100% (729341/729341), 6.37 GiB | 30.58 MiB/s, done.\n",
            "Resolving deltas: 100% (334295/334295), done.\n",
            "Checking out files: 100% (533923/533923), done.\n"
          ]
        }
      ]
    },
    {
      "cell_type": "code",
      "source": [
        "#### importing create_df function from df_generation.py file\n",
        "%cd /content/CEVOpen/statistical_ananlysis_2022/\n",
        "\n",
        "from df_generation import create_df"
      ],
      "metadata": {
        "colab": {
          "base_uri": "https://localhost:8080/"
        },
        "id": "76NNnvYP4My5",
        "outputId": "7a82a4ae-032e-41ed-df77-f89c17bd895c"
      },
      "execution_count": 4,
      "outputs": [
        {
          "output_type": "stream",
          "name": "stdout",
          "text": [
            "/content/CEVOpen/statistical_ananlysis_2022\n"
          ]
        }
      ]
    },
    {
      "cell_type": "markdown",
      "source": [
        "## Note\n",
        "In the cell below please provide the **column name** you are concered at a moment for statistical analysis. Like:\n",
        "**Terpere**\n",
        "\n",
        "Also provide the location of the folder containing annotation_csv from the annotators. In this case it is as shoen in the line below\n",
        "i.e \n",
        "        \n",
        "\n",
        "```\n",
        "  path = '/content/look_alike_data/annotators_label/'\n",
        "  class_label = 'Terpene'\n",
        "```\n",
        "\n",
        "\n",
        "\n",
        "\n",
        "\n"
      ],
      "metadata": {
        "id": "x6JOCupOlqUs"
      }
    },
    {
      "cell_type": "code",
      "source": [
        "####define path of your folder where the data from annotator are stored\n",
        "path = '/content/look_alike_data/annotators_label/'\n",
        "\n",
        "#### define the class label you are currently interested in\n",
        "class_label = 'Pathway' # change to lower case\n",
        "\n",
        "#### create dataframe by calling create_df function\n",
        "data, mapping = create_df(path, class_label)\n",
        "\n",
        "\n",
        "#### printing dataframe generated\n",
        "print('data:\\n',data)\n",
        "\n",
        "\n",
        "#### information about data\n",
        "print('Information Regarding The Data Generated using {} from all the annotators: '.format(class_label))\n",
        "print('\\nNo of Annotators are: ',data.shape[1])\n",
        "print('No of figures labeled by the annotators are: ',data.shape[0])\n",
        "print('Shape of the DataFrame \"data\" is : ',data.shape)\n",
        "print('\\nTop 10 entries of data are\\n: ',data.head(10))\n",
        "\n",
        "#### Converting data to binary 0s and 1s\n",
        "data_converted = data.replace(('yes', 'no'), (1, 0), inplace=False)\n",
        "#print('\\n data_converted for terpene:\\n', data_converted)\n",
        "\n",
        "\n",
        "#### Removing the frist two columns as they are general information about the fig PCMID and Fig_no:\n",
        "data = data.iloc[:,2:]\n",
        "\n",
        "#### printing  the correlation coefficient computed using Pearson Method uding corr function from pandas\n",
        "correlation_coef_df = data_converted.corr(method = 'pearson')\n",
        "print('\\n Correlation matrix Pearson for class label Terpene:\\n',correlation_coef_df )\n",
        "\n",
        "\n",
        "#### To print  the correlation coefficient computed using Kendal and Spearman Method follow the lines of code below.\n",
        "# print('Correlation matrix kendall:\\n', data.corr(method = 'kendall'))\n",
        "# print('Correlation matrix spearman:\\n', data.corr(method = 'spearman'))\n",
        "\n",
        "\n",
        "#### printing  the confusion matrix :\n",
        "print('\\nConfuion matrix between Annotator_1 and Annotator_2 for class label Terpene:\\n',\n",
        "      pd.DataFrame(confusion_matrix(data.annotator_1.to_numpy(),\n",
        "      data.annotator_2.to_numpy(), labels=['yes', 'no']), index=['yes', 'no'], columns=['yes', 'no']))\n",
        "'''      \n",
        "       Any combination of Annotators for confusion matrix can be chosen to print:\n",
        "            replace the pair ------> data.Annotator_1.to_numpy(),data.Annotator_2.to_numpy()\n",
        "            with whatever Annotator combination you wanna inspect. Lets say Annotator_2 and Annotator_6,\n",
        "                 Then new pair will be :\n",
        "                    data.Annotator_2.to_numpy(),data.Annotator_6.to_numpy()\n",
        "\n",
        "\n",
        "'''\n",
        "\n",
        "\n",
        "#### storing confusionmatrix for all pairs\n",
        "total_annotators = data.shape[1]\n",
        "confusion_matrix_gen = [['o' for i in range(total_annotators)]for j in range(total_annotators)]\n",
        "annotater_list = data.columns\n",
        "for i, a1 in enumerate(annotater_list):\n",
        "  for j, a2 in enumerate(annotater_list):\n",
        "   \n",
        "    sub_confusion_matrix= confusion_matrix(data[a1].to_numpy(), data[a2].to_numpy(), labels = ['yes','no'])\n",
        "    #confusion_matrix_gen[i][j]= 'yes-yes: '+str(sub_confusion_matrix[0][0]) + ', yes-no: '+str(sub_confusion_matrix[0][1])+ ', no-yes: '+ str(sub_confusion_matrix[1][0])+ ', no-no: '+str(sub_confusion_matrix[1][1])\n",
        "    confusion_matrix_gen[i][j]= sub_confusion_matrix #'yes-yes: '+str(sub_confusion_matrix[0][0]) + ', yes-no: '+str(sub_confusion_matrix[0][1])+ ', no-yes: '+ str(sub_confusion_matrix[1][0])+ ', no-no: '+str(sub_confusion_matrix[1][1])\n",
        "\n",
        "confusion_matrix_df = pd.DataFrame(confusion_matrix_gen, index= data.columns, columns=data.columns)\n",
        "\n",
        "\n",
        "#### printing  the cohen kappa  matrix:\n",
        "\n",
        "total_annotators = data.shape[1]\n",
        "cohen_kappa_matrix = np.zeros((total_annotators,total_annotators))\n",
        "annotater_list = data.columns\n",
        "for i, a1 in enumerate(annotater_list):\n",
        "  for j, a2 in enumerate(annotater_list):\n",
        "    cohen_kappa_matrix[i][j] = cohen_kappa_score(data[a1], data[a2])\n",
        "    #print(i,j,cohen_kappa_score(a1, a2))\n",
        "\n",
        "cohhen_kappa_df = pd.DataFrame(cohen_kappa_matrix , index= data.columns, columns=data.columns)\n",
        "print('\\nCohens kappa matrix for class label Terpene:\\n',cohhen_kappa_df)\n",
        "\n",
        "\n",
        "\n",
        "\n",
        "#### Saving the diffrent statistical values in respective directory:\n",
        "save_path = os.path.dirname(os.path.dirname(path)) +'/'+class_label+'/'         \n",
        "if not os.path.exists(save_path):                                           \n",
        "  os.makedirs(save_path)\n",
        "\n",
        "\n",
        "correlation_coef_df.to_csv(save_path +'correlation_coef_'+ class_label+'.csv')\n",
        "confusion_matrix_df.to_csv(save_path +'confusion_matrix_'+ class_label+'.csv')\n",
        "cohhen_kappa_df.to_csv(save_path +'cohen_kappa_'+ class_label+'.csv')  \n"
      ],
      "metadata": {
        "colab": {
          "base_uri": "https://localhost:8080/"
        },
        "id": "iByQIcTkUjsC",
        "outputId": "bb9b320b-5375-4cda-95a8-cf2444eced82"
      },
      "execution_count": 5,
      "outputs": [
        {
          "output_type": "stream",
          "name": "stdout",
          "text": [
            "data:\n",
            "          pmcid     fig_no annotator_0  ... annotator_4 annotator_5 annotator_6\n",
            "0   PMC6323817     Fig. 6         yes  ...          no         yes         yes\n",
            "1   PMC6348685     Fig. 4          no  ...          no         yes         yes\n",
            "2   PMC6356271     Fig. 2          no  ...         yes          no         yes\n",
            "3   PMC6360084     Fig. 8          no  ...          no         yes         yes\n",
            "4   PMC6374618     Fig. 4          no  ...         yes          no         yes\n",
            "5   PMC6394206     Fig. 5          no  ...          no          no         yes\n",
            "6   PMC6412517     Fig. 2          no  ...          no          no         yes\n",
            "7   PMC6423058     Fig. 2          no  ...         yes          no          no\n",
            "8   PMC6437448     Fig. 1          no  ...         yes          no          no\n",
            "9   PMC6441073     Fig. 3          no  ...          no          no         yes\n",
            "10  PMC6453882   Figure 4         yes  ...          no          no         yes\n",
            "11  PMC6475556   Figure 7         yes  ...         yes          no         yes\n",
            "12  PMC6486373   Fig. (1)         yes  ...         yes          no         yes\n",
            "13  PMC6509841     Fig. 8          no  ...          no          no         yes\n",
            "14  PMC6544981     Fig. 1         yes  ...          no          no         yes\n",
            "15  PMC6546118   FIGURE 3          no  ...         yes          no          no\n",
            "16  PMC6585571   FIGURE 1          no  ...          no          no         yes\n",
            "17  PMC6589721   Figure 2          no  ...          no          no         yes\n",
            "18  PMC6589721   Figure 3          no  ...         yes          no         yes\n",
            "19  PMC6589726   Figure 1         yes  ...          no          no          no\n",
            "20  PMC6593971   Figure 3          no  ...          no         yes         yes\n",
            "21  PMC6600569  Figure 23          no  ...         yes         yes         yes\n",
            "22  PMC6627501   Figure 1          no  ...         yes         yes         yes\n",
            "23  PMC6627624   Figure 5         yes  ...          no         yes          no\n",
            "24  PMC6646362   Figure 3          no  ...          no          no          no\n",
            "25  PMC6650903   Figure 4         yes  ...          no         yes          no\n",
            "26  PMC6651063   Figure 6         yes  ...          no          no         yes\n",
            "27  PMC6651195   Figure 1          no  ...          no         yes         yes\n",
            "28  PMC6667825    Fig. 16         yes  ...          no          no         yes\n",
            "29  PMC6676540     Fig. 5         yes  ...          no          no         yes\n",
            "\n",
            "[30 rows x 9 columns]\n",
            "Information Regarding The Data Generated using Pathway from all the annotators: \n",
            "\n",
            "No of Annotators are:  9\n",
            "No of figures labeled by the annotators are:  30\n",
            "Shape of the DataFrame \"data\" is :  (30, 9)\n",
            "\n",
            "Top 10 entries of data are\n",
            ":          pmcid  fig_no annotator_0  ... annotator_4 annotator_5 annotator_6\n",
            "0  PMC6323817  Fig. 6         yes  ...          no         yes         yes\n",
            "1  PMC6348685  Fig. 4          no  ...          no         yes         yes\n",
            "2  PMC6356271  Fig. 2          no  ...         yes          no         yes\n",
            "3  PMC6360084  Fig. 8          no  ...          no         yes         yes\n",
            "4  PMC6374618  Fig. 4          no  ...         yes          no         yes\n",
            "5  PMC6394206  Fig. 5          no  ...          no          no         yes\n",
            "6  PMC6412517  Fig. 2          no  ...          no          no         yes\n",
            "7  PMC6423058  Fig. 2          no  ...         yes          no          no\n",
            "8  PMC6437448  Fig. 1          no  ...         yes          no          no\n",
            "9  PMC6441073  Fig. 3          no  ...          no          no         yes\n",
            "\n",
            "[10 rows x 9 columns]\n",
            "\n",
            " Correlation matrix Pearson for class label Terpene:\n",
            "              annotator_0   annotator_1  ...  annotator_5  annotator_6\n",
            "annotator_0     1.000000  4.528334e-02  ...    -0.045283    -0.070869\n",
            "annotator_1     0.045283  1.000000e+00  ...    -0.206349     0.154782\n",
            "annotator_2    -0.172160 -2.788996e-01  ...    -0.161468     0.153741\n",
            "annotator_3     0.018487  1.166424e-01  ...     0.029161     0.273821\n",
            "annotator_4    -0.244558  3.854500e-17  ...    -0.154303    -0.111456\n",
            "annotator_5    -0.045283 -2.063492e-01  ...     1.000000     0.017198\n",
            "annotator_6    -0.070869  1.547818e-01  ...     0.017198     1.000000\n",
            "\n",
            "[7 rows x 7 columns]\n",
            "\n",
            "Confuion matrix between Annotator_1 and Annotator_2 for class label Terpene:\n",
            "      yes  no\n",
            "yes   10  11\n",
            "no     7   2\n",
            "\n",
            "Cohens kappa matrix for class label Terpene:\n",
            "              annotator_0  annotator_1  ...  annotator_5  annotator_6\n",
            "annotator_0     1.000000     0.036145  ...    -0.044776    -0.050584\n",
            "annotator_1     0.036145     1.000000  ...    -0.149425     0.152542\n",
            "annotator_2    -0.158798    -0.267606  ...    -0.139241     0.138756\n",
            "annotator_3     0.017467     0.109589  ...     0.025974     0.239631\n",
            "annotator_4    -0.243902     0.000000  ...    -0.153846    -0.075472\n",
            "annotator_5    -0.044776    -0.149425  ...     1.000000     0.010989\n",
            "annotator_6    -0.050584     0.152542  ...     0.010989     1.000000\n",
            "\n",
            "[7 rows x 7 columns]\n"
          ]
        }
      ]
    }
  ]
}