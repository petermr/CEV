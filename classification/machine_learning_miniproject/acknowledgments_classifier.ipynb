{
 "cells": [
  {
   "cell_type": "code",
   "execution_count": 1,
   "metadata": {
    "id": "rWpPJuyjrt7E"
   },
   "outputs": [],
   "source": [
    "import xml.etree.ElementTree as ET\n",
    "import string\n",
    "import os  \n",
    "import re\n",
    "import pandas as pd\n",
    "import pickle "
   ]
  },
  {
   "cell_type": "code",
   "execution_count": 2,
   "metadata": {
    "id": "JESEPqwPrt7Z"
   },
   "outputs": [],
   "source": [
    "import pandas as pd\n",
    "url = 'https://github.com/petermr/CEVOpen/blob/master/classification/machine_learning_miniproject/labelled_sent_ack.csv'\n",
    "train_data = pd.read_csv('C://Users//91981//CEVOpen//classification//machine_learning_miniproject//acknow_training_dataset.csv')\n",
    "\n",
    "\n",
    " \n",
    "\n",
    "\n",
    "train_data = train_data.sample(frac=1).reset_index(drop=True)  #shufffle the dataset"
   ]
  },
  {
   "cell_type": "code",
   "execution_count": 3,
   "metadata": {
    "colab": {
     "base_uri": "https://localhost:8080/",
     "height": 203
    },
    "id": "qWp2hi91rt7s",
    "outputId": "b521a67f-04fd-4236-ae75-d645c3c78c86"
   },
   "outputs": [
    {
     "data": {
      "text/html": [
       "<div>\n",
       "<style scoped>\n",
       "    .dataframe tbody tr th:only-of-type {\n",
       "        vertical-align: middle;\n",
       "    }\n",
       "\n",
       "    .dataframe tbody tr th {\n",
       "        vertical-align: top;\n",
       "    }\n",
       "\n",
       "    .dataframe thead th {\n",
       "        text-align: right;\n",
       "    }\n",
       "</style>\n",
       "<table border=\"1\" class=\"dataframe\">\n",
       "  <thead>\n",
       "    <tr style=\"text-align: right;\">\n",
       "      <th></th>\n",
       "      <th>sentences</th>\n",
       "      <th>label</th>\n",
       "    </tr>\n",
       "  </thead>\n",
       "  <tbody>\n",
       "    <tr>\n",
       "      <th>0</th>\n",
       "      <td>['The flowers, leaves and roots of   E. ilicif...</td>\n",
       "      <td>not_acknow</td>\n",
       "    </tr>\n",
       "    <tr>\n",
       "      <th>1</th>\n",
       "      <td>We are grateful to Guy Erlich for providing th...</td>\n",
       "      <td>acknow</td>\n",
       "    </tr>\n",
       "    <tr>\n",
       "      <th>2</th>\n",
       "      <td>The ATR plate cleaning was verified by recordi...</td>\n",
       "      <td>not_acknow</td>\n",
       "    </tr>\n",
       "    <tr>\n",
       "      <th>3</th>\n",
       "      <td>About 80 g of beans were introduced in a grind...</td>\n",
       "      <td>not_acknow</td>\n",
       "    </tr>\n",
       "    <tr>\n",
       "      <th>4</th>\n",
       "      <td>['Blood was collected from the retro-orbital s...</td>\n",
       "      <td>not_acknow</td>\n",
       "    </tr>\n",
       "  </tbody>\n",
       "</table>\n",
       "</div>"
      ],
      "text/plain": [
       "                                           sentences       label\n",
       "0  ['The flowers, leaves and roots of   E. ilicif...  not_acknow\n",
       "1  We are grateful to Guy Erlich for providing th...      acknow\n",
       "2  The ATR plate cleaning was verified by recordi...  not_acknow\n",
       "3  About 80 g of beans were introduced in a grind...  not_acknow\n",
       "4  ['Blood was collected from the retro-orbital s...  not_acknow"
      ]
     },
     "execution_count": 3,
     "metadata": {},
     "output_type": "execute_result"
    }
   ],
   "source": [
    "train_data.head()"
   ]
  },
  {
   "cell_type": "code",
   "execution_count": 4,
   "metadata": {
    "id": "IcgTnZR_rt71"
   },
   "outputs": [],
   "source": [
    "train_data['category_id'] = train_data['label'].factorize()[0] # factorizing the output into zero and one"
   ]
  },
  {
   "cell_type": "code",
   "execution_count": 5,
   "metadata": {
    "colab": {
     "base_uri": "https://localhost:8080/",
     "height": 345
    },
    "id": "UDCzXwILrt8E",
    "outputId": "f032ad42-37ff-41ca-e38d-d6f6982c9e36"
   },
   "outputs": [
    {
     "data": {
      "text/plain": [
       "<AxesSubplot:xlabel='label'>"
      ]
     },
     "execution_count": 5,
     "metadata": {},
     "output_type": "execute_result"
    },
    {
     "data": {
      "image/png": "[encoded data removed]",
      "text/plain": [
       "<Figure size 432x288 with 1 Axes>"
      ]
     },
     "metadata": {
      "needs_background": "light"
     },
     "output_type": "display_data"
    }
   ],
   "source": [
    "train_data.groupby('label').category_id.count().plot.bar(ylim=0)"
   ]
  },
  {
   "cell_type": "code",
   "execution_count": 6,
   "metadata": {
    "id": "HEH5qKH5rt8T"
   },
   "outputs": [],
   "source": [
    "from sklearn.feature_extraction.text import TfidfVectorizer # term frequency & inverse document frequency (finding important words within text)\n",
    "tfidf = TfidfVectorizer(sublinear_tf=True, min_df= 5, norm ='max', encoding='latin-1', ngram_range=(1, 4), stop_words='english')\n",
    "features = tfidf.fit_transform(train_data.sentences).toarray()\n",
    "labels = train_data.category_id"
   ]
  },
  {
   "cell_type": "code",
   "execution_count": 7,
   "metadata": {
    "id": "vd6bW6FVrt8e"
   },
   "outputs": [],
   "source": [
    "category_to_id = {'acknow':0, 'not_acknow':1}\n",
    "id_to_category = {0: 'acknow', 1: 'not_acknow'}"
   ]
  },
  {
   "cell_type": "code",
   "execution_count": 8,
   "metadata": {
    "colab": {
     "base_uri": "https://localhost:8080/"
    },
    "id": "dIfkCYIGrt8t",
    "outputId": "6c3f4886-fcb9-4ed3-caad-4e98cf13f897"
   },
   "outputs": [
    {
     "name": "stdout",
     "output_type": "stream",
     "text": [
      "0 acknow\n",
      "(array([6.13257257e+00, 2.90634231e+00, 9.08726869e-01, 9.08726869e-01,\n",
      "       3.75937500e+00, 1.44414048e+00, 9.19374934e-01, 2.22597286e-01,\n",
      "       1.15973096e+00, 2.59653659e-01, 2.20410764e-01, 1.30551039e+00,\n",
      "       1.12798903e+00, 1.12798903e+00, 9.95085201e-01, 2.85248712e+00,\n",
      "       6.17623383e-01, 2.48717581e-01, 1.12218996e+00, 3.18586871e+00,\n",
      "       4.19588587e-01, 6.76680470e-02, 1.07651246e+00, 8.56761053e-01,\n",
      "       1.99155008e+00, 1.07651246e+00, 2.06000506e+00, 9.34359437e-01,\n",
      "       9.31117851e-01, 1.35368737e+00, 8.95164832e-01, 2.03449853e+00,\n",
      "       7.02260324e-01, 7.02260324e-01, 8.60914998e-01, 1.50074926e+00,\n",
      "       1.66803987e+00, 1.91278965e+00, 8.47320218e-01, 9.79446922e-01,\n",
      "       1.60045502e+00, 2.97724010e+00, 1.29151134e+00, 1.80842623e+00,\n",
      "       9.39745857e-01, 1.06623804e+00, 1.06317385e+00, 1.37146124e+00,\n",
      "       3.07754666e-01, 4.41060771e+01, 8.49924508e-01, 1.65179657e+00,\n",
      "       2.55901066e+00, 1.01331563e+00, 1.62916773e+00, 1.62916773e+00,\n",
      "       4.62777647e+00, 1.21256757e+00, 3.35254105e+00, 1.37379700e+00,\n",
      "       4.89160959e+00, 5.99604153e-01, 1.42492384e+00, 3.23270619e-02,\n",
      "       1.02390248e+00, 3.63806132e-03, 1.04610607e+00, 1.81570958e+00,\n",
      "       9.51873296e-03, 1.62770880e-01, 1.11981208e+00, 1.96002282e+00,\n",
      "       1.34270160e+01, 2.01404832e+00, 4.36157167e-02, 4.99429195e+01,\n",
      "       9.51570218e-01, 3.05433469e-02, 9.79792825e-01, 1.73923397e+02,\n",
      "       4.86776762e+01, 8.00033332e+01, 6.58856595e+01, 4.60758190e+01,\n",
      "       2.31472594e+00, 4.02112230e+00, 1.32575003e+00, 1.18500906e+00,\n",
      "       9.58614000e-01, 1.83850220e+00, 9.98043186e-01, 8.74970029e+00,\n",
      "       9.69219662e-01, 2.09675592e+00, 6.17355822e-01, 2.11033398e+00,\n",
      "       1.77607536e+00, 3.16139434e+01, 1.78796036e-02, 1.56982029e-01,\n",
      "       1.46072317e+01, 1.16756498e+01, 9.08726869e-01, 9.08726869e-01,\n",
      "       5.08078405e+00, 1.09862153e+00, 1.72269689e+01, 7.26803589e+00,\n",
      "       1.84130077e+00, 2.14342459e-01, 3.76492248e-01, 1.65223643e+00,\n",
      "       9.43836449e-01, 3.29781046e+01, 7.80070961e-01, 1.04635362e+01,\n",
      "       1.16166022e+00, 1.32575003e+00, 1.49468825e+00, 8.88092489e-01,\n",
      "       2.09286383e+00, 1.24472490e+00, 2.49054116e+00, 1.99114832e+00,\n",
      "       9.60910366e-01, 1.00818159e+00, 1.81561383e+00, 2.08506176e-01,\n",
      "       1.34746738e+00, 1.47651063e+00, 3.34653091e+01, 4.80167448e-01,\n",
      "       1.02662533e+00, 1.18868455e+00, 2.24222238e+00, 2.34517586e+00,\n",
      "       9.20040215e-01, 9.90848748e-01, 9.90848748e-01, 2.20630352e+01,\n",
      "       2.19874276e+00, 1.63579615e+00, 1.56007182e+00, 2.85576059e+01,\n",
      "       8.27531233e-01, 1.94859379e+00, 4.05307199e+00, 8.46153813e-01,\n",
      "       1.05188570e+00, 1.08784368e+00, 1.58518051e+00, 8.86509419e-01,\n",
      "       8.86509419e-01, 1.14591134e+00, 1.31072742e+00, 4.75409281e+01,\n",
      "       3.12925009e+00, 3.23551588e+01, 1.07651246e+00, 9.24953224e-01,\n",
      "       2.81112237e+00, 3.29551866e+00, 1.42711840e+00, 7.53795062e-01,\n",
      "       8.98240596e-01, 4.91180541e-01, 3.17021583e+00, 9.39745857e-01,\n",
      "       1.25709959e+00, 1.19706458e-01, 3.54111424e-01, 7.64439412e-01,\n",
      "       6.19972451e-02, 3.05954402e+01, 9.65439588e+00, 8.06876692e-01,\n",
      "       6.13257257e+00, 4.48118390e+01, 1.27445727e+00, 1.01849468e+00,\n",
      "       7.02260324e-01, 7.02260324e-01, 1.92530239e+00, 8.97161766e-01,\n",
      "       8.41025812e-01, 1.19694352e+02, 1.14410780e+02, 3.26084390e+01,\n",
      "       3.06462427e+01, 8.04572569e-01, 1.31719915e+00, 9.86561322e-01,\n",
      "       1.07651246e+00, 2.03105974e-02, 1.01288058e+00, 1.25304686e+00,\n",
      "       9.91882694e-01, 2.31573861e+01, 1.73164375e+00, 1.70194636e-01,\n",
      "       1.07651246e+00, 3.62523641e+01, 3.85129899e+01, 9.45975758e-01,\n",
      "       1.36822212e+00, 7.73969318e-01, 8.79785093e-03, 1.02718661e+01,\n",
      "       6.71041242e+00, 5.55607727e+00, 1.12798903e+00, 1.10073407e-02,\n",
      "       6.13257257e+00, 4.82134914e+01, 2.25153561e+01, 9.34608879e+01,\n",
      "       2.36680043e+01, 1.24219119e+00, 2.30485722e+00, 1.77191247e-01,\n",
      "       2.13964720e+00, 1.83773480e+00, 1.14255742e+00, 5.63110639e-01,\n",
      "       5.87321733e-01, 5.87321733e-01, 1.01844565e+00, 2.06023993e+01,\n",
      "       1.35345900e+00, 1.26867138e+00, 2.62753608e+01, 2.62753608e+01,\n",
      "       1.91372204e+00, 1.10983786e+00, 1.65272279e+00, 4.44980206e-03,\n",
      "       9.62253694e-01, 1.45830622e+00, 9.00049824e-01, 1.20751729e+00,\n",
      "       2.34506529e+00, 9.95085201e-01, 2.94553182e-01, 1.24032993e+00,\n",
      "       9.27379601e-01, 2.05205431e+00, 1.18704070e+00, 8.29368873e-01,\n",
      "       1.19331525e+00, 1.01278808e+01, 5.98747505e-02, 2.88207222e+01,\n",
      "       1.25709959e+00, 4.43192361e-01, 1.33023362e+00, 1.17132687e+00,\n",
      "       1.07651246e+00, 1.70324696e+00, 2.35405890e+00, 1.57406552e+00,\n",
      "       1.95038222e+01, 3.03746315e+00, 8.20363079e-01, 1.28131963e+01,\n",
      "       8.59484369e+01, 7.39090870e+01, 1.03796396e+00, 1.86198860e+00,\n",
      "       1.73543343e+00, 8.35141024e-01, 3.17330693e-01, 7.70226200e-01,\n",
      "       1.37976120e-02, 1.24790571e+00, 1.05722273e+00, 2.68317244e+00,\n",
      "       1.72293944e+01, 1.70577750e+01, 2.10451181e+00, 2.11210996e+00,\n",
      "       1.07651246e+00, 1.42558540e+00, 3.58558395e+00, 2.00958513e+00,\n",
      "       3.20554858e+00, 1.02409163e+00, 1.89605454e+00, 1.30272055e+00,\n",
      "       1.99395807e+00, 4.70897923e+00, 2.67410819e+01, 9.23701971e-01,\n",
      "       7.36905260e+00, 9.31467224e-01, 9.86561322e-01, 2.60611372e+00,\n",
      "       7.71127167e-01, 4.29197859e+00, 7.18369448e+00, 5.90747111e+00,\n",
      "       1.83279098e+00, 1.83279098e+00, 1.10983786e+00, 1.76572764e+01,\n",
      "       1.29578459e-01, 3.50091696e+00, 1.02782224e+00, 9.43836449e-01,\n",
      "       1.18256486e+01, 9.25091922e-01, 2.59741416e+00, 9.38483954e-01,\n",
      "       1.10031778e+00, 2.26356902e+00, 9.30278822e-01, 1.39165076e+00,\n",
      "       8.07492291e-01, 5.29443369e-01, 1.96088960e+00, 9.52685512e-01,\n",
      "       1.11061817e+00, 1.01763028e+00, 5.14006179e-01, 1.38428815e+00,\n",
      "       1.99776830e-01, 1.02606236e+01, 1.82602552e+01, 2.19043782e+00,\n",
      "       1.75982632e+00, 9.83006041e-01, 1.86574580e-01, 3.06737300e-01,\n",
      "       9.88371084e-01, 2.25504430e+00, 3.51953806e+00, 1.36526666e+00,\n",
      "       1.37606961e+00, 9.16172427e-01, 1.10902456e+01, 3.29413264e-03,\n",
      "       2.13282472e+00, 5.17949843e-01, 1.03066189e+00, 8.44314440e-01,\n",
      "       1.18631590e+00, 9.09938210e-02, 2.21728178e+01, 5.09396402e+01,\n",
      "       9.27379601e-01, 8.91490621e+00, 4.25128741e+01, 9.98037282e-01,\n",
      "       1.70033947e+00, 7.93343937e-01, 3.05227605e-01, 1.03103757e+00,\n",
      "       1.24506391e+00, 9.50807787e+00, 1.36441276e+00, 1.09712594e+00,\n",
      "       1.25709959e+00, 1.50588695e+00, 1.34978217e+02, 2.32054784e+01,\n",
      "       7.11184171e+00, 4.83483991e-01, 9.69219662e-01, 1.07651246e+00,\n",
      "       1.07651246e+00, 1.30551039e+00, 1.12798903e+00, 8.82478781e-01,\n",
      "       3.76332820e-01, 1.27484511e+00, 8.52632032e-01, 2.40396034e+01,\n",
      "       2.75071978e+01, 2.39460202e+01, 4.23862957e+01, 4.62927150e+01,\n",
      "       4.81969077e+01, 1.83993567e+00, 1.49116920e+00, 1.07651246e+00,\n",
      "       2.94760214e+00, 9.91882694e-01, 1.42997813e+00, 1.17786056e+00,\n",
      "       1.52238732e-01, 4.40637473e-04, 9.25779681e-01, 1.48127730e+00,\n",
      "       1.18688671e+00, 8.58598155e-01, 1.21577087e+00, 1.82222444e+00,\n",
      "       8.82375500e-01, 2.31383841e+00, 1.03937964e+00, 1.01071230e+00,\n",
      "       9.91882694e-01, 8.35141024e-01, 8.35141024e-01, 1.79438167e+01,\n",
      "       2.45953245e+00, 3.47964625e-01, 2.87349715e+00, 9.24403735e-01,\n",
      "       9.83306204e-01, 2.59447491e+00, 1.07651246e+00, 1.43899934e+00,\n",
      "       2.08279789e+00, 1.29793757e+01, 9.41440183e-01, 9.35761113e-01,\n",
      "       1.82602552e+01, 1.45677494e+02, 5.70514179e+01, 1.79936664e+00,\n",
      "       1.46409725e+00, 1.68223809e+00, 1.07651246e+00, 9.28438370e-01,\n",
      "       4.75776878e+01, 3.20476840e+01, 2.56302833e+00, 2.60785742e+00,\n",
      "       8.16887947e-01, 4.39784970e-04, 1.40140113e+02, 2.10171628e+01,\n",
      "       2.01843570e+01, 7.02260324e-01, 1.38058883e+00, 1.77013032e+00,\n",
      "       2.08110935e+00, 8.93595626e-01, 7.89837992e-03, 1.05777202e+00,\n",
      "       1.86257989e+00, 9.03741322e-01, 2.11576484e+00, 9.86104839e+01,\n",
      "       1.70577750e+01, 1.70577750e+01, 1.70324696e+00, 5.10314935e-01,\n",
      "       4.91533915e-02, 4.76318077e+00, 5.72325265e+00, 9.26457612e-01,\n",
      "       1.39100296e+00, 4.16766831e-01, 1.47630144e+00, 3.87185189e+00,\n",
      "       9.17707499e-01, 2.61136525e+00, 7.72928291e+01, 1.89475716e+01,\n",
      "       1.00080219e+00, 1.52226876e+00, 1.58587347e+00, 1.27445727e+00,\n",
      "       1.69064271e+00, 1.01254511e+00, 2.08830139e+00, 8.85489334e-01]), array([1.32713625e-02, 8.82317713e-02, 3.40452444e-01, 3.40452444e-01,\n",
      "       5.25122033e-02, 2.29470494e-01, 3.37639148e-01, 6.37068003e-01,\n",
      "       2.81521344e-01, 6.10358195e-01, 6.38727115e-01, 2.53209136e-01,\n",
      "       2.88204689e-01, 2.88204689e-01, 3.18502675e-01, 9.12326994e-02,\n",
      "       4.31931825e-01, 6.17979519e-01, 2.89447388e-01, 7.42775067e-02,\n",
      "       5.17142403e-01, 7.94762860e-01, 2.99479056e-01, 3.54646678e-01,\n",
      "       1.58178899e-01, 2.99479056e-01, 1.51209668e-01, 3.33732684e-01,\n",
      "       3.34572621e-01, 2.44634519e-01, 3.44081514e-01, 1.53764890e-01,\n",
      "       4.02025233e-01, 4.02025233e-01, 3.53482763e-01, 2.20556113e-01,\n",
      "       1.96521284e-01, 1.66653709e-01, 3.57311542e-01, 3.22335390e-01,\n",
      "       2.05838740e-01, 8.44431512e-02, 2.55769616e-01, 1.78697134e-01,\n",
      "       3.32343209e-01, 3.01796732e-01, 3.02492419e-01, 2.41560981e-01,\n",
      "       5.79061291e-01, 3.11053738e-11, 3.56573695e-01, 1.98714584e-01,\n",
      "       1.09667193e-01, 3.14109824e-01, 2.01818202e-01, 2.01818202e-01,\n",
      "       3.14583078e-02, 2.70824218e-01, 6.71013562e-02, 2.41160577e-01,\n",
      "       2.69875146e-02, 4.38729100e-01, 2.32594660e-01, 8.57311719e-01,\n",
      "       3.11595114e-01, 9.51903685e-01, 3.06405602e-01, 1.77824827e-01,\n",
      "       9.22278517e-01, 6.86618142e-01, 2.89958922e-01, 1.61510878e-01,\n",
      "       2.48026329e-04, 1.55848963e-01, 8.34570208e-01, 1.58284223e-12,\n",
      "       3.29319934e-01, 8.61263073e-01, 3.22249960e-01, 1.02875789e-39,\n",
      "       3.01680855e-12, 3.73778673e-19, 4.77855926e-16, 1.13763961e-11,\n",
      "       1.28153886e-01, 4.49338031e-02, 2.49562701e-01, 2.76338606e-01,\n",
      "       3.27536327e-01, 1.75126601e-01, 3.17784463e-01, 3.09652942e-03,\n",
      "       3.24874870e-01, 1.47612037e-01, 4.32031580e-01, 1.46307384e-01,\n",
      "       1.82631989e-01, 1.88074327e-08, 8.93628232e-01, 6.91950427e-01,\n",
      "       1.32405466e-04, 6.33234193e-04, 3.40452444e-01, 3.40452444e-01,\n",
      "       2.41924276e-02, 2.94568821e-01, 3.31694137e-05, 7.01925204e-03,\n",
      "       1.74798565e-01, 6.43384913e-01, 5.39486530e-01, 1.98654814e-01,\n",
      "       3.31293154e-01, 9.32026253e-09, 3.77119438e-01, 1.21753986e-03,\n",
      "       2.81121492e-01, 2.49562701e-01, 2.21490474e-01, 3.45994749e-01,\n",
      "       1.47988427e-01, 2.64562389e-01, 1.14532337e-01, 1.58220864e-01,\n",
      "       3.26957618e-01, 3.15338869e-01, 1.77836263e-01, 6.47940776e-01,\n",
      "       2.45721362e-01, 2.24321265e-01, 7.25464842e-09, 4.88346479e-01,\n",
      "       3.10952602e-01, 2.75595059e-01, 1.34287852e-01, 1.25671379e-01,\n",
      "       3.37464413e-01, 3.19535022e-01, 3.19535022e-01, 2.63841855e-06,\n",
      "       1.38123352e-01, 2.00903231e-01, 2.11654705e-01, 9.09518561e-08,\n",
      "       3.62987372e-01, 1.62738464e-01, 4.40910404e-02, 3.57642687e-01,\n",
      "       3.05073192e-01, 2.96949475e-01, 2.08016059e-01, 3.46424979e-01,\n",
      "       3.46424979e-01, 2.84406687e-01, 2.52262995e-01, 5.38674658e-12,\n",
      "       7.68991064e-02, 1.28415833e-08, 2.99479056e-01, 3.36177770e-01,\n",
      "       9.36128603e-02, 6.94691652e-02, 2.32235293e-01, 3.85277345e-01,\n",
      "       3.43253910e-01, 4.83401164e-01, 7.49925357e-02, 3.32343209e-01,\n",
      "       2.62200813e-01, 7.29353077e-01, 5.51794929e-01, 3.81942781e-01,\n",
      "       8.03366614e-01, 3.17839851e-08, 1.88899005e-03, 3.69045272e-01,\n",
      "       1.32713625e-02, 2.16907236e-11, 2.58932162e-01, 3.12876342e-01,\n",
      "       4.02025233e-01, 4.02025233e-01, 1.65273305e-01, 3.43543888e-01,\n",
      "       3.59103553e-01, 7.37988141e-28, 1.05926610e-26, 1.12724242e-08,\n",
      "       3.09625598e-08, 3.69729753e-01, 2.51095336e-01, 3.20584272e-01,\n",
      "       2.99479056e-01, 8.86673032e-01, 3.14213730e-01, 2.62971340e-01,\n",
      "       3.19282663e-01, 1.49268751e-06, 1.88201111e-01, 6.79938886e-01,\n",
      "       2.99479056e-01, 1.73349599e-09, 5.43904640e-10, 3.30745753e-01,\n",
      "       2.42117582e-01, 3.78991906e-01, 9.25270526e-01, 1.35074113e-03,\n",
      "       9.58515541e-03, 1.84166358e-02, 2.88204689e-01, 9.16442563e-01,\n",
      "       1.32713625e-02, 3.82249265e-12, 2.08470404e-06, 4.14307273e-22,\n",
      "       1.14469936e-06, 2.65049176e-01, 1.28970131e-01, 6.73798233e-01,\n",
      "       1.43534897e-01, 1.75216675e-01, 2.85112579e-01, 4.53009627e-01,\n",
      "       4.43456661e-01, 4.43456661e-01, 3.12887990e-01, 5.65252297e-06,\n",
      "       2.44674319e-01, 2.60016076e-01, 2.96041570e-07, 2.96041570e-07,\n",
      "       1.66550394e-01, 2.92117198e-01, 1.98588749e-01, 9.46815092e-01,\n",
      "       3.26619714e-01, 2.27199812e-01, 3.42768352e-01, 2.71824374e-01,\n",
      "       1.25680296e-01, 3.18502675e-01, 5.87317410e-01, 2.65407477e-01,\n",
      "       3.35544761e-01, 1.52000972e-01, 2.75927295e-01, 3.62455090e-01,\n",
      "       2.74661850e-01, 1.46043222e-03, 8.06694012e-01, 7.93970632e-08,\n",
      "       2.62200813e-01, 5.05585649e-01, 2.48763660e-01, 2.79128771e-01,\n",
      "       2.99479056e-01, 1.91863892e-01, 1.24957275e-01, 2.09617583e-01,\n",
      "       1.00398591e-05, 8.13629764e-02, 3.65074031e-01, 3.44183065e-04,\n",
      "       1.84689132e-20, 8.17988869e-18, 3.08295474e-01, 1.72395463e-01,\n",
      "       1.87718483e-01, 3.60790149e-01, 5.73216234e-01, 3.80147085e-01,\n",
      "       9.06492975e-01, 2.63952853e-01, 3.03849471e-01, 1.01413515e-01,\n",
      "       3.31270933e-05, 3.62596126e-05, 1.46865209e-01, 1.46137701e-01,\n",
      "       2.99479056e-01, 2.32486257e-01, 5.82829295e-02, 1.56308057e-01,\n",
      "       7.33888938e-02, 3.11550426e-01, 1.68520607e-01, 2.53716882e-01,\n",
      "       1.57927643e-01, 3.00054629e-02, 2.32622848e-07, 3.36504829e-01,\n",
      "       6.63558842e-03, 3.34481958e-01, 3.20584272e-01, 1.06452350e-01,\n",
      "       3.79868580e-01, 3.82925784e-02, 7.35690629e-03, 1.50768004e-02,\n",
      "       1.75798245e-01, 1.75798245e-01, 2.92117198e-01, 2.64501429e-05,\n",
      "       7.18869508e-01, 6.13348602e-02, 3.10670711e-01, 3.31293154e-01,\n",
      "       5.84203604e-04, 3.36141542e-01, 1.07038229e-01, 3.32668035e-01,\n",
      "       2.94196376e-01, 1.32448503e-01, 3.34790484e-01, 2.38126523e-01,\n",
      "       3.68862696e-01, 4.66840973e-01, 1.61418210e-01, 3.29036664e-01,\n",
      "       2.91947611e-01, 3.13081774e-01, 4.73409736e-01, 2.39372068e-01,\n",
      "       6.54901042e-01, 1.35899735e-03, 1.92685762e-05, 1.38869837e-01,\n",
      "       1.84646181e-01, 3.21457788e-01, 6.65782988e-01, 5.79689244e-01,\n",
      "       3.20140822e-01, 1.33179644e-01, 6.06493492e-02, 2.42626805e-01,\n",
      "       2.40771773e-01, 3.38481979e-01, 8.67829894e-04, 9.54230916e-01,\n",
      "       1.44174854e-01, 4.71717533e-01, 3.10003260e-01, 3.58165747e-01,\n",
      "       2.76073945e-01, 7.62917500e-01, 2.49176775e-06, 9.52504147e-13,\n",
      "       3.35544761e-01, 2.82852338e-03, 7.02185149e-11, 3.17785895e-01,\n",
      "       1.92243587e-01, 3.73090904e-01, 5.80623591e-01, 3.09915097e-01,\n",
      "       2.64497342e-01, 2.04569335e-03, 2.42774174e-01, 2.94897707e-01,\n",
      "       2.62200813e-01, 2.19767776e-01, 3.33811132e-31, 1.45582012e-06,\n",
      "       7.65763956e-03, 4.86848436e-01, 3.24874870e-01, 2.99479056e-01,\n",
      "       2.99479056e-01, 2.53209136e-01, 2.88204689e-01, 3.47523659e-01,\n",
      "       5.39572413e-01, 2.58859705e-01, 3.55808814e-01, 9.43744556e-07,\n",
      "       1.56510944e-07, 9.90748840e-07, 7.49131144e-11, 1.01841917e-11,\n",
      "       3.85495797e-12, 1.74958487e-01, 2.22035140e-01, 2.99479056e-01,\n",
      "       8.60050806e-02, 3.19282663e-01, 2.31768007e-01, 2.77791974e-01,\n",
      "       6.96405061e-01, 9.83252543e-01, 3.35961979e-01, 2.23574784e-01,\n",
      "       2.75958445e-01, 3.54131285e-01, 2.70192221e-01, 1.77048724e-01,\n",
      "       3.47551874e-01, 1.28227058e-01, 3.07965796e-01, 3.14732256e-01,\n",
      "       3.19282663e-01, 3.60790149e-01, 3.60790149e-01, 2.27522341e-05,\n",
      "       1.16813549e-01, 5.55267574e-01, 9.00490041e-02, 3.36321346e-01,\n",
      "       3.21383919e-01, 1.07236975e-01, 2.99479056e-01, 2.30301338e-01,\n",
      "       1.48966905e-01, 3.14940967e-04, 3.31907738e-01, 3.33370364e-01,\n",
      "       1.92685762e-05, 1.52702519e-33, 4.24565172e-14, 1.79789084e-01,\n",
      "       2.26279329e-01, 1.94627328e-01, 2.99479056e-01, 3.35269043e-01,\n",
      "       5.28667778e-12, 1.50434328e-08, 1.09388864e-01, 1.06335342e-01,\n",
      "       3.66091631e-01, 9.83268749e-01, 2.48070017e-32, 4.55187513e-06,\n",
      "       7.03256838e-06, 4.02025233e-01, 2.40000873e-01, 1.83365952e-01,\n",
      "       1.49131758e-01, 3.44504784e-01, 9.29182977e-01, 3.03723886e-01,\n",
      "       1.72327339e-01, 3.41780502e-01, 1.45789203e-01, 3.07387574e-23,\n",
      "       3.62596126e-05, 3.62596126e-05, 1.91863892e-01, 4.75002555e-01,\n",
      "       8.24543038e-01, 2.90747707e-02, 1.67416883e-02, 3.35785107e-01,\n",
      "       2.38235797e-01, 5.18554758e-01, 2.24354094e-01, 4.91023142e-02,\n",
      "       3.38077629e-01, 1.06100384e-01, 1.47400226e-18, 1.34360189e-05,\n",
      "       3.17116479e-01, 2.17276485e-01, 2.07916692e-01, 2.58932162e-01,\n",
      "       1.93516267e-01, 3.14293882e-01, 1.48431025e-01, 3.46702590e-01]))\n",
      "[429 389 339  65 235 438 206  68 211 272  98 193  77  63  74 448 250 172\n",
      "  21 345 169 304 388  99  69 199 219 330 324 127 109  10   7  17   9 242\n",
      " 354 331  48 270 405 170 372 110 453  20 253 131 365 165 447 322 341 317\n",
      " 223 225 224  61  94  16 181  33 433 180  32 163 171 271 296 205 114 353\n",
      " 189 175 316 428 262 144 247 402 269 401 184 343 147  38  50 374  23 393\n",
      "  34 396 371 467 151 152 119 437  30 183 164 238 441 102 103   2   3 337\n",
      " 456   6 136 291 407 159 309 390 451 348 244 423 314  28 293  27 415 311\n",
      " 167  44 414 307 112 203  76 319  88 124 236 366  92  39  78 329 408 294\n",
      " 191 332 138 137 400 385 196  14 241 351  90 460 125 399 465 194  53 321\n",
      " 226 179  64 285 132 306 342 355 266 398  66 148 274 439  46  45 367 192\n",
      " 256 280 200  22  25 422 410 158 383 368 149 359 105 312 302 233 320  70\n",
      "  18  12 370  13 210 222 153   8 116 255 387  87 344 392 246 133 248 239\n",
      "  57 394 243 217 121 356 273 195 168 252 360 229 178 463 373  42 287 369\n",
      "  11 154 190 117  86 254 128 228  29 358 335 204  47  59 336 434 323 452\n",
      " 315  62 281 162 386 411   5 237 420 454 129 391 382 118  35 361 461 142\n",
      " 259 150 462  40  55  54 141  51 111 234  36 421 464 352 446 257 198 268\n",
      " 328 435  96 419  43 126  67 395 301 300 221  89 381 108 267 440 286  37\n",
      " 232 182 145  71 318 123  24 288 283  73  31 245  26 436 412 466 120  93\n",
      " 278  95 279 442 340 220 327 140 134 333 313 218 397  84 240 135 258 404\n",
      " 122  52 426 409 310 295 427 457 275 160  15 406   1 384  41 261 156 166\n",
      "  19 284 161  58 305 334 282   4 455  85 146 297  56 289 449  60 104 209\n",
      " 450 299   0 212 176 208 364 298 107 292  91 349 357 174 249 325 207 115\n",
      " 338 101 308 263 413  72 100 445 277 444 106 276 303 403 326 416 459 260\n",
      " 432 227 431 139 346 214 197 363 216 377 375 230 231 290 376 143 251 173\n",
      " 188  97 425 157 187 113 130 201 202 378 350  49 177  83 379 155 424 380\n",
      " 213  80  75 347 418  82 265 458  81 264 215 443 186 185 362 430 417  79]\n",
      "# 'acknow':\n",
      "  . Most correlated unigrams:\n",
      "       . supported\n",
      "       . work\n",
      "       . like\n",
      "       . grateful\n",
      "       . university\n",
      "       . financial\n",
      "       . research\n",
      "       . thank\n",
      "       . support\n",
      "       . authors\n",
      "  . Most correlated bigrams:\n",
      "       . research council\n",
      "       . science technology\n",
      "       . higher education\n",
      "       . financially supported\n",
      "       . authors thank\n",
      "       . scientific research\n",
      "       . authors grateful\n",
      "       . like thank\n",
      "       . authors like\n",
      "       . financial support\n",
      "1 not_acknow\n",
      "(array([6.13257257e+00, 2.90634231e+00, 9.08726869e-01, 9.08726869e-01,\n",
      "       3.75937500e+00, 1.44414048e+00, 9.19374934e-01, 2.22597286e-01,\n",
      "       1.15973096e+00, 2.59653659e-01, 2.20410764e-01, 1.30551039e+00,\n",
      "       1.12798903e+00, 1.12798903e+00, 9.95085201e-01, 2.85248712e+00,\n",
      "       6.17623383e-01, 2.48717581e-01, 1.12218996e+00, 3.18586871e+00,\n",
      "       4.19588587e-01, 6.76680470e-02, 1.07651246e+00, 8.56761053e-01,\n",
      "       1.99155008e+00, 1.07651246e+00, 2.06000506e+00, 9.34359437e-01,\n",
      "       9.31117851e-01, 1.35368737e+00, 8.95164832e-01, 2.03449853e+00,\n",
      "       7.02260324e-01, 7.02260324e-01, 8.60914998e-01, 1.50074926e+00,\n",
      "       1.66803987e+00, 1.91278965e+00, 8.47320218e-01, 9.79446922e-01,\n",
      "       1.60045502e+00, 2.97724010e+00, 1.29151134e+00, 1.80842623e+00,\n",
      "       9.39745857e-01, 1.06623804e+00, 1.06317385e+00, 1.37146124e+00,\n",
      "       3.07754666e-01, 4.41060771e+01, 8.49924508e-01, 1.65179657e+00,\n",
      "       2.55901066e+00, 1.01331563e+00, 1.62916773e+00, 1.62916773e+00,\n",
      "       4.62777647e+00, 1.21256757e+00, 3.35254105e+00, 1.37379700e+00,\n",
      "       4.89160959e+00, 5.99604153e-01, 1.42492384e+00, 3.23270619e-02,\n",
      "       1.02390248e+00, 3.63806132e-03, 1.04610607e+00, 1.81570958e+00,\n",
      "       9.51873296e-03, 1.62770880e-01, 1.11981208e+00, 1.96002282e+00,\n",
      "       1.34270160e+01, 2.01404832e+00, 4.36157167e-02, 4.99429195e+01,\n",
      "       9.51570218e-01, 3.05433469e-02, 9.79792825e-01, 1.73923397e+02,\n",
      "       4.86776762e+01, 8.00033332e+01, 6.58856595e+01, 4.60758190e+01,\n",
      "       2.31472594e+00, 4.02112230e+00, 1.32575003e+00, 1.18500906e+00,\n",
      "       9.58614000e-01, 1.83850220e+00, 9.98043186e-01, 8.74970029e+00,\n",
      "       9.69219662e-01, 2.09675592e+00, 6.17355822e-01, 2.11033398e+00,\n",
      "       1.77607536e+00, 3.16139434e+01, 1.78796036e-02, 1.56982029e-01,\n",
      "       1.46072317e+01, 1.16756498e+01, 9.08726869e-01, 9.08726869e-01,\n",
      "       5.08078405e+00, 1.09862153e+00, 1.72269689e+01, 7.26803589e+00,\n",
      "       1.84130077e+00, 2.14342459e-01, 3.76492248e-01, 1.65223643e+00,\n",
      "       9.43836449e-01, 3.29781046e+01, 7.80070961e-01, 1.04635362e+01,\n",
      "       1.16166022e+00, 1.32575003e+00, 1.49468825e+00, 8.88092489e-01,\n",
      "       2.09286383e+00, 1.24472490e+00, 2.49054116e+00, 1.99114832e+00,\n",
      "       9.60910366e-01, 1.00818159e+00, 1.81561383e+00, 2.08506176e-01,\n",
      "       1.34746738e+00, 1.47651063e+00, 3.34653091e+01, 4.80167448e-01,\n",
      "       1.02662533e+00, 1.18868455e+00, 2.24222238e+00, 2.34517586e+00,\n",
      "       9.20040215e-01, 9.90848748e-01, 9.90848748e-01, 2.20630352e+01,\n",
      "       2.19874276e+00, 1.63579615e+00, 1.56007182e+00, 2.85576059e+01,\n",
      "       8.27531233e-01, 1.94859379e+00, 4.05307199e+00, 8.46153813e-01,\n",
      "       1.05188570e+00, 1.08784368e+00, 1.58518051e+00, 8.86509419e-01,\n",
      "       8.86509419e-01, 1.14591134e+00, 1.31072742e+00, 4.75409281e+01,\n",
      "       3.12925009e+00, 3.23551588e+01, 1.07651246e+00, 9.24953224e-01,\n",
      "       2.81112237e+00, 3.29551866e+00, 1.42711840e+00, 7.53795062e-01,\n",
      "       8.98240596e-01, 4.91180541e-01, 3.17021583e+00, 9.39745857e-01,\n",
      "       1.25709959e+00, 1.19706458e-01, 3.54111424e-01, 7.64439412e-01,\n",
      "       6.19972451e-02, 3.05954402e+01, 9.65439588e+00, 8.06876692e-01,\n",
      "       6.13257257e+00, 4.48118390e+01, 1.27445727e+00, 1.01849468e+00,\n",
      "       7.02260324e-01, 7.02260324e-01, 1.92530239e+00, 8.97161766e-01,\n",
      "       8.41025812e-01, 1.19694352e+02, 1.14410780e+02, 3.26084390e+01,\n",
      "       3.06462427e+01, 8.04572569e-01, 1.31719915e+00, 9.86561322e-01,\n",
      "       1.07651246e+00, 2.03105974e-02, 1.01288058e+00, 1.25304686e+00,\n",
      "       9.91882694e-01, 2.31573861e+01, 1.73164375e+00, 1.70194636e-01,\n",
      "       1.07651246e+00, 3.62523641e+01, 3.85129899e+01, 9.45975758e-01,\n",
      "       1.36822212e+00, 7.73969318e-01, 8.79785093e-03, 1.02718661e+01,\n",
      "       6.71041242e+00, 5.55607727e+00, 1.12798903e+00, 1.10073407e-02,\n",
      "       6.13257257e+00, 4.82134914e+01, 2.25153561e+01, 9.34608879e+01,\n",
      "       2.36680043e+01, 1.24219119e+00, 2.30485722e+00, 1.77191247e-01,\n",
      "       2.13964720e+00, 1.83773480e+00, 1.14255742e+00, 5.63110639e-01,\n",
      "       5.87321733e-01, 5.87321733e-01, 1.01844565e+00, 2.06023993e+01,\n",
      "       1.35345900e+00, 1.26867138e+00, 2.62753608e+01, 2.62753608e+01,\n",
      "       1.91372204e+00, 1.10983786e+00, 1.65272279e+00, 4.44980206e-03,\n",
      "       9.62253694e-01, 1.45830622e+00, 9.00049824e-01, 1.20751729e+00,\n",
      "       2.34506529e+00, 9.95085201e-01, 2.94553182e-01, 1.24032993e+00,\n",
      "       9.27379601e-01, 2.05205431e+00, 1.18704070e+00, 8.29368873e-01,\n",
      "       1.19331525e+00, 1.01278808e+01, 5.98747505e-02, 2.88207222e+01,\n",
      "       1.25709959e+00, 4.43192361e-01, 1.33023362e+00, 1.17132687e+00,\n",
      "       1.07651246e+00, 1.70324696e+00, 2.35405890e+00, 1.57406552e+00,\n",
      "       1.95038222e+01, 3.03746315e+00, 8.20363079e-01, 1.28131963e+01,\n",
      "       8.59484369e+01, 7.39090870e+01, 1.03796396e+00, 1.86198860e+00,\n",
      "       1.73543343e+00, 8.35141024e-01, 3.17330693e-01, 7.70226200e-01,\n",
      "       1.37976120e-02, 1.24790571e+00, 1.05722273e+00, 2.68317244e+00,\n",
      "       1.72293944e+01, 1.70577750e+01, 2.10451181e+00, 2.11210996e+00,\n",
      "       1.07651246e+00, 1.42558540e+00, 3.58558395e+00, 2.00958513e+00,\n",
      "       3.20554858e+00, 1.02409163e+00, 1.89605454e+00, 1.30272055e+00,\n",
      "       1.99395807e+00, 4.70897923e+00, 2.67410819e+01, 9.23701971e-01,\n",
      "       7.36905260e+00, 9.31467224e-01, 9.86561322e-01, 2.60611372e+00,\n",
      "       7.71127167e-01, 4.29197859e+00, 7.18369448e+00, 5.90747111e+00,\n",
      "       1.83279098e+00, 1.83279098e+00, 1.10983786e+00, 1.76572764e+01,\n",
      "       1.29578459e-01, 3.50091696e+00, 1.02782224e+00, 9.43836449e-01,\n",
      "       1.18256486e+01, 9.25091922e-01, 2.59741416e+00, 9.38483954e-01,\n",
      "       1.10031778e+00, 2.26356902e+00, 9.30278822e-01, 1.39165076e+00,\n",
      "       8.07492291e-01, 5.29443369e-01, 1.96088960e+00, 9.52685512e-01,\n",
      "       1.11061817e+00, 1.01763028e+00, 5.14006179e-01, 1.38428815e+00,\n",
      "       1.99776830e-01, 1.02606236e+01, 1.82602552e+01, 2.19043782e+00,\n",
      "       1.75982632e+00, 9.83006041e-01, 1.86574580e-01, 3.06737300e-01,\n",
      "       9.88371084e-01, 2.25504430e+00, 3.51953806e+00, 1.36526666e+00,\n",
      "       1.37606961e+00, 9.16172427e-01, 1.10902456e+01, 3.29413264e-03,\n",
      "       2.13282472e+00, 5.17949843e-01, 1.03066189e+00, 8.44314440e-01,\n",
      "       1.18631590e+00, 9.09938210e-02, 2.21728178e+01, 5.09396402e+01,\n",
      "       9.27379601e-01, 8.91490621e+00, 4.25128741e+01, 9.98037282e-01,\n",
      "       1.70033947e+00, 7.93343937e-01, 3.05227605e-01, 1.03103757e+00,\n",
      "       1.24506391e+00, 9.50807787e+00, 1.36441276e+00, 1.09712594e+00,\n",
      "       1.25709959e+00, 1.50588695e+00, 1.34978217e+02, 2.32054784e+01,\n",
      "       7.11184171e+00, 4.83483991e-01, 9.69219662e-01, 1.07651246e+00,\n",
      "       1.07651246e+00, 1.30551039e+00, 1.12798903e+00, 8.82478781e-01,\n",
      "       3.76332820e-01, 1.27484511e+00, 8.52632032e-01, 2.40396034e+01,\n",
      "       2.75071978e+01, 2.39460202e+01, 4.23862957e+01, 4.62927150e+01,\n",
      "       4.81969077e+01, 1.83993567e+00, 1.49116920e+00, 1.07651246e+00,\n",
      "       2.94760214e+00, 9.91882694e-01, 1.42997813e+00, 1.17786056e+00,\n",
      "       1.52238732e-01, 4.40637473e-04, 9.25779681e-01, 1.48127730e+00,\n",
      "       1.18688671e+00, 8.58598155e-01, 1.21577087e+00, 1.82222444e+00,\n",
      "       8.82375500e-01, 2.31383841e+00, 1.03937964e+00, 1.01071230e+00,\n",
      "       9.91882694e-01, 8.35141024e-01, 8.35141024e-01, 1.79438167e+01,\n",
      "       2.45953245e+00, 3.47964625e-01, 2.87349715e+00, 9.24403735e-01,\n",
      "       9.83306204e-01, 2.59447491e+00, 1.07651246e+00, 1.43899934e+00,\n",
      "       2.08279789e+00, 1.29793757e+01, 9.41440183e-01, 9.35761113e-01,\n",
      "       1.82602552e+01, 1.45677494e+02, 5.70514179e+01, 1.79936664e+00,\n",
      "       1.46409725e+00, 1.68223809e+00, 1.07651246e+00, 9.28438370e-01,\n",
      "       4.75776878e+01, 3.20476840e+01, 2.56302833e+00, 2.60785742e+00,\n",
      "       8.16887947e-01, 4.39784970e-04, 1.40140113e+02, 2.10171628e+01,\n",
      "       2.01843570e+01, 7.02260324e-01, 1.38058883e+00, 1.77013032e+00,\n",
      "       2.08110935e+00, 8.93595626e-01, 7.89837992e-03, 1.05777202e+00,\n",
      "       1.86257989e+00, 9.03741322e-01, 2.11576484e+00, 9.86104839e+01,\n",
      "       1.70577750e+01, 1.70577750e+01, 1.70324696e+00, 5.10314935e-01,\n",
      "       4.91533915e-02, 4.76318077e+00, 5.72325265e+00, 9.26457612e-01,\n",
      "       1.39100296e+00, 4.16766831e-01, 1.47630144e+00, 3.87185189e+00,\n",
      "       9.17707499e-01, 2.61136525e+00, 7.72928291e+01, 1.89475716e+01,\n",
      "       1.00080219e+00, 1.52226876e+00, 1.58587347e+00, 1.27445727e+00,\n",
      "       1.69064271e+00, 1.01254511e+00, 2.08830139e+00, 8.85489334e-01]), array([1.32713625e-02, 8.82317713e-02, 3.40452444e-01, 3.40452444e-01,\n",
      "       5.25122033e-02, 2.29470494e-01, 3.37639148e-01, 6.37068003e-01,\n",
      "       2.81521344e-01, 6.10358195e-01, 6.38727115e-01, 2.53209136e-01,\n",
      "       2.88204689e-01, 2.88204689e-01, 3.18502675e-01, 9.12326994e-02,\n",
      "       4.31931825e-01, 6.17979519e-01, 2.89447388e-01, 7.42775067e-02,\n",
      "       5.17142403e-01, 7.94762860e-01, 2.99479056e-01, 3.54646678e-01,\n",
      "       1.58178899e-01, 2.99479056e-01, 1.51209668e-01, 3.33732684e-01,\n",
      "       3.34572621e-01, 2.44634519e-01, 3.44081514e-01, 1.53764890e-01,\n",
      "       4.02025233e-01, 4.02025233e-01, 3.53482763e-01, 2.20556113e-01,\n",
      "       1.96521284e-01, 1.66653709e-01, 3.57311542e-01, 3.22335390e-01,\n",
      "       2.05838740e-01, 8.44431512e-02, 2.55769616e-01, 1.78697134e-01,\n",
      "       3.32343209e-01, 3.01796732e-01, 3.02492419e-01, 2.41560981e-01,\n",
      "       5.79061291e-01, 3.11053738e-11, 3.56573695e-01, 1.98714584e-01,\n",
      "       1.09667193e-01, 3.14109824e-01, 2.01818202e-01, 2.01818202e-01,\n",
      "       3.14583078e-02, 2.70824218e-01, 6.71013562e-02, 2.41160577e-01,\n",
      "       2.69875146e-02, 4.38729100e-01, 2.32594660e-01, 8.57311719e-01,\n",
      "       3.11595114e-01, 9.51903685e-01, 3.06405602e-01, 1.77824827e-01,\n",
      "       9.22278517e-01, 6.86618142e-01, 2.89958922e-01, 1.61510878e-01,\n",
      "       2.48026329e-04, 1.55848963e-01, 8.34570208e-01, 1.58284223e-12,\n",
      "       3.29319934e-01, 8.61263073e-01, 3.22249960e-01, 1.02875789e-39,\n",
      "       3.01680855e-12, 3.73778673e-19, 4.77855926e-16, 1.13763961e-11,\n",
      "       1.28153886e-01, 4.49338031e-02, 2.49562701e-01, 2.76338606e-01,\n",
      "       3.27536327e-01, 1.75126601e-01, 3.17784463e-01, 3.09652942e-03,\n",
      "       3.24874870e-01, 1.47612037e-01, 4.32031580e-01, 1.46307384e-01,\n",
      "       1.82631989e-01, 1.88074327e-08, 8.93628232e-01, 6.91950427e-01,\n",
      "       1.32405466e-04, 6.33234193e-04, 3.40452444e-01, 3.40452444e-01,\n",
      "       2.41924276e-02, 2.94568821e-01, 3.31694137e-05, 7.01925204e-03,\n",
      "       1.74798565e-01, 6.43384913e-01, 5.39486530e-01, 1.98654814e-01,\n",
      "       3.31293154e-01, 9.32026253e-09, 3.77119438e-01, 1.21753986e-03,\n",
      "       2.81121492e-01, 2.49562701e-01, 2.21490474e-01, 3.45994749e-01,\n",
      "       1.47988427e-01, 2.64562389e-01, 1.14532337e-01, 1.58220864e-01,\n",
      "       3.26957618e-01, 3.15338869e-01, 1.77836263e-01, 6.47940776e-01,\n",
      "       2.45721362e-01, 2.24321265e-01, 7.25464842e-09, 4.88346479e-01,\n",
      "       3.10952602e-01, 2.75595059e-01, 1.34287852e-01, 1.25671379e-01,\n",
      "       3.37464413e-01, 3.19535022e-01, 3.19535022e-01, 2.63841855e-06,\n",
      "       1.38123352e-01, 2.00903231e-01, 2.11654705e-01, 9.09518561e-08,\n",
      "       3.62987372e-01, 1.62738464e-01, 4.40910404e-02, 3.57642687e-01,\n",
      "       3.05073192e-01, 2.96949475e-01, 2.08016059e-01, 3.46424979e-01,\n",
      "       3.46424979e-01, 2.84406687e-01, 2.52262995e-01, 5.38674658e-12,\n",
      "       7.68991064e-02, 1.28415833e-08, 2.99479056e-01, 3.36177770e-01,\n",
      "       9.36128603e-02, 6.94691652e-02, 2.32235293e-01, 3.85277345e-01,\n",
      "       3.43253910e-01, 4.83401164e-01, 7.49925357e-02, 3.32343209e-01,\n",
      "       2.62200813e-01, 7.29353077e-01, 5.51794929e-01, 3.81942781e-01,\n",
      "       8.03366614e-01, 3.17839851e-08, 1.88899005e-03, 3.69045272e-01,\n",
      "       1.32713625e-02, 2.16907236e-11, 2.58932162e-01, 3.12876342e-01,\n",
      "       4.02025233e-01, 4.02025233e-01, 1.65273305e-01, 3.43543888e-01,\n",
      "       3.59103553e-01, 7.37988141e-28, 1.05926610e-26, 1.12724242e-08,\n",
      "       3.09625598e-08, 3.69729753e-01, 2.51095336e-01, 3.20584272e-01,\n",
      "       2.99479056e-01, 8.86673032e-01, 3.14213730e-01, 2.62971340e-01,\n",
      "       3.19282663e-01, 1.49268751e-06, 1.88201111e-01, 6.79938886e-01,\n",
      "       2.99479056e-01, 1.73349599e-09, 5.43904640e-10, 3.30745753e-01,\n",
      "       2.42117582e-01, 3.78991906e-01, 9.25270526e-01, 1.35074113e-03,\n",
      "       9.58515541e-03, 1.84166358e-02, 2.88204689e-01, 9.16442563e-01,\n",
      "       1.32713625e-02, 3.82249265e-12, 2.08470404e-06, 4.14307273e-22,\n",
      "       1.14469936e-06, 2.65049176e-01, 1.28970131e-01, 6.73798233e-01,\n",
      "       1.43534897e-01, 1.75216675e-01, 2.85112579e-01, 4.53009627e-01,\n",
      "       4.43456661e-01, 4.43456661e-01, 3.12887990e-01, 5.65252297e-06,\n",
      "       2.44674319e-01, 2.60016076e-01, 2.96041570e-07, 2.96041570e-07,\n",
      "       1.66550394e-01, 2.92117198e-01, 1.98588749e-01, 9.46815092e-01,\n",
      "       3.26619714e-01, 2.27199812e-01, 3.42768352e-01, 2.71824374e-01,\n",
      "       1.25680296e-01, 3.18502675e-01, 5.87317410e-01, 2.65407477e-01,\n",
      "       3.35544761e-01, 1.52000972e-01, 2.75927295e-01, 3.62455090e-01,\n",
      "       2.74661850e-01, 1.46043222e-03, 8.06694012e-01, 7.93970632e-08,\n",
      "       2.62200813e-01, 5.05585649e-01, 2.48763660e-01, 2.79128771e-01,\n",
      "       2.99479056e-01, 1.91863892e-01, 1.24957275e-01, 2.09617583e-01,\n",
      "       1.00398591e-05, 8.13629764e-02, 3.65074031e-01, 3.44183065e-04,\n",
      "       1.84689132e-20, 8.17988869e-18, 3.08295474e-01, 1.72395463e-01,\n",
      "       1.87718483e-01, 3.60790149e-01, 5.73216234e-01, 3.80147085e-01,\n",
      "       9.06492975e-01, 2.63952853e-01, 3.03849471e-01, 1.01413515e-01,\n",
      "       3.31270933e-05, 3.62596126e-05, 1.46865209e-01, 1.46137701e-01,\n",
      "       2.99479056e-01, 2.32486257e-01, 5.82829295e-02, 1.56308057e-01,\n",
      "       7.33888938e-02, 3.11550426e-01, 1.68520607e-01, 2.53716882e-01,\n",
      "       1.57927643e-01, 3.00054629e-02, 2.32622848e-07, 3.36504829e-01,\n",
      "       6.63558842e-03, 3.34481958e-01, 3.20584272e-01, 1.06452350e-01,\n",
      "       3.79868580e-01, 3.82925784e-02, 7.35690629e-03, 1.50768004e-02,\n",
      "       1.75798245e-01, 1.75798245e-01, 2.92117198e-01, 2.64501429e-05,\n",
      "       7.18869508e-01, 6.13348602e-02, 3.10670711e-01, 3.31293154e-01,\n",
      "       5.84203604e-04, 3.36141542e-01, 1.07038229e-01, 3.32668035e-01,\n",
      "       2.94196376e-01, 1.32448503e-01, 3.34790484e-01, 2.38126523e-01,\n",
      "       3.68862696e-01, 4.66840973e-01, 1.61418210e-01, 3.29036664e-01,\n",
      "       2.91947611e-01, 3.13081774e-01, 4.73409736e-01, 2.39372068e-01,\n",
      "       6.54901042e-01, 1.35899735e-03, 1.92685762e-05, 1.38869837e-01,\n",
      "       1.84646181e-01, 3.21457788e-01, 6.65782988e-01, 5.79689244e-01,\n",
      "       3.20140822e-01, 1.33179644e-01, 6.06493492e-02, 2.42626805e-01,\n",
      "       2.40771773e-01, 3.38481979e-01, 8.67829894e-04, 9.54230916e-01,\n",
      "       1.44174854e-01, 4.71717533e-01, 3.10003260e-01, 3.58165747e-01,\n",
      "       2.76073945e-01, 7.62917500e-01, 2.49176775e-06, 9.52504147e-13,\n",
      "       3.35544761e-01, 2.82852338e-03, 7.02185149e-11, 3.17785895e-01,\n",
      "       1.92243587e-01, 3.73090904e-01, 5.80623591e-01, 3.09915097e-01,\n",
      "       2.64497342e-01, 2.04569335e-03, 2.42774174e-01, 2.94897707e-01,\n",
      "       2.62200813e-01, 2.19767776e-01, 3.33811132e-31, 1.45582012e-06,\n",
      "       7.65763956e-03, 4.86848436e-01, 3.24874870e-01, 2.99479056e-01,\n",
      "       2.99479056e-01, 2.53209136e-01, 2.88204689e-01, 3.47523659e-01,\n",
      "       5.39572413e-01, 2.58859705e-01, 3.55808814e-01, 9.43744556e-07,\n",
      "       1.56510944e-07, 9.90748840e-07, 7.49131144e-11, 1.01841917e-11,\n",
      "       3.85495797e-12, 1.74958487e-01, 2.22035140e-01, 2.99479056e-01,\n",
      "       8.60050806e-02, 3.19282663e-01, 2.31768007e-01, 2.77791974e-01,\n",
      "       6.96405061e-01, 9.83252543e-01, 3.35961979e-01, 2.23574784e-01,\n",
      "       2.75958445e-01, 3.54131285e-01, 2.70192221e-01, 1.77048724e-01,\n",
      "       3.47551874e-01, 1.28227058e-01, 3.07965796e-01, 3.14732256e-01,\n",
      "       3.19282663e-01, 3.60790149e-01, 3.60790149e-01, 2.27522341e-05,\n",
      "       1.16813549e-01, 5.55267574e-01, 9.00490041e-02, 3.36321346e-01,\n",
      "       3.21383919e-01, 1.07236975e-01, 2.99479056e-01, 2.30301338e-01,\n",
      "       1.48966905e-01, 3.14940967e-04, 3.31907738e-01, 3.33370364e-01,\n",
      "       1.92685762e-05, 1.52702519e-33, 4.24565172e-14, 1.79789084e-01,\n",
      "       2.26279329e-01, 1.94627328e-01, 2.99479056e-01, 3.35269043e-01,\n",
      "       5.28667778e-12, 1.50434328e-08, 1.09388864e-01, 1.06335342e-01,\n",
      "       3.66091631e-01, 9.83268749e-01, 2.48070017e-32, 4.55187513e-06,\n",
      "       7.03256838e-06, 4.02025233e-01, 2.40000873e-01, 1.83365952e-01,\n",
      "       1.49131758e-01, 3.44504784e-01, 9.29182977e-01, 3.03723886e-01,\n",
      "       1.72327339e-01, 3.41780502e-01, 1.45789203e-01, 3.07387574e-23,\n",
      "       3.62596126e-05, 3.62596126e-05, 1.91863892e-01, 4.75002555e-01,\n",
      "       8.24543038e-01, 2.90747707e-02, 1.67416883e-02, 3.35785107e-01,\n",
      "       2.38235797e-01, 5.18554758e-01, 2.24354094e-01, 4.91023142e-02,\n",
      "       3.38077629e-01, 1.06100384e-01, 1.47400226e-18, 1.34360189e-05,\n",
      "       3.17116479e-01, 2.17276485e-01, 2.07916692e-01, 2.58932162e-01,\n",
      "       1.93516267e-01, 3.14293882e-01, 1.48431025e-01, 3.46702590e-01]))\n",
      "[ 79 417 430 362 185 186 443 215 264  81 458 265  82 418 347  75  80 213\n",
      " 380 424 155 379  83 177  49 350 378 202 201 130 113 187 157 425  97 188\n",
      " 173 251 143 376 290 230 231 375 377 216 363 197 214 346 139 431 227 432\n",
      " 260 459 326 416 403 303 276 106 277 444 445 100  72 413 263 308 101 338\n",
      " 115 207 325 249 174 357 349  91 292 107 298 364 208   0 212 176 299 450\n",
      " 209 104  60 449 289  56 297 146  85 455   4 282 334 305  58 161 284  19\n",
      " 166 156 261  41 384   1 406  15 160 275 457 427 295 310 409 426  52 122\n",
      " 404 258 135 240  84 397 218 313 333 134 140 327 220 340 442 279  95 278\n",
      "  93 120 466 412 436  26 245  31  73 283 288  24 123 318  71 145 182 232\n",
      "  37 286 440 267 108 381  89 221 301 300 395  67 126  43 419  96 435 328\n",
      " 268 198 257 446 352 464 421  36 234 111  51 141  55  54  40 462 150 259\n",
      " 142 461 361  35 118 382 391 129 454 420 237   5 411 386 162 281  62 315\n",
      " 452 323 434 336  59  47 204 335 358  29 228 128 254 117  86 190 154  11\n",
      " 369 287  42 373 463 178 229 360 168 252 195 273 356 121 217 243 394  57\n",
      " 239 248 133 246 392 344  87 387 255 116   8 153 222 210  13  12 370  18\n",
      "  70 320 302 233 312 105 359 149 158 422 200 410 192  25  22 256 280 383\n",
      " 368 367  45  46 439 274 148  66 398 266 355 342 306 132 285  64 179 226\n",
      " 321  53 194 465 399 125 460  90 351  14 241 385 400 196 137 138 332 294\n",
      " 191 408 329  78  39 366  92 236 124  88 319  76 203 112 307 414  44 167\n",
      " 311 415  27 293  28 314 423 244 348 451 390 309 159 407 291 136   6 456\n",
      " 337   2   3 102 103 441 238 164 183  30 437 119 151 152 467 371 396  34\n",
      " 393  23 374  50  38 147 343 184 269 402 401 247 144 262 428 316 175 189\n",
      " 353 114 205 296 271 171 163  33 433  32 180 181  16  94  61 225 224 223\n",
      " 317 341 322 447 165 365 131 253  20 453 110 372 170 405 270  48 331 354\n",
      " 242   9  17   7  10 109 127 324 330 219 199  69  99 388 304 169 345  21\n",
      " 172 250 448  74  63  77 193  98 272 211  68 206 438 235  65 339 389 429]\n",
      "# 'not_acknow':\n",
      "  . Most correlated unigrams:\n",
      "       . carried\n",
      "       . materials\n",
      "       . germany\n",
      "       . applied\n",
      "       . treatment\n",
      "       . hydrodistillation\n",
      "       . animals\n",
      "       . preparation\n",
      "       . set\n",
      "       . tests\n",
      "  . Most correlated bigrams:\n",
      "       . 28 days\n",
      "       . distilled water\n",
      "       . st louis\n",
      "       . purchased local\n",
      "       . essential oil\n",
      "       . 30 25\n",
      "       . film thickness\n",
      "       . hap samples\n",
      "       . plant material\n",
      "       . gas chromatography\n"
     ]
    }
   ],
   "source": [
    "# Use chi-square analysis to find corelation between features (importantce of words) and labels(news category) \n",
    "from sklearn.feature_selection import chi2\n",
    "import numpy as np\n",
    "\n",
    "N = 10  # We are going to look for top 3 categories\n",
    "\n",
    "#For each category, find words that are highly corelated to it\n",
    "for Category, category_id in sorted(category_to_id.items()):\n",
    "  print (f\"{category_id} {Category}\")\n",
    "  features_chi2 = chi2(features, labels == category_id)  \n",
    "  print(features_chi2)                 # Do chi2 analyses of all items in this category\n",
    "  #index=0 # Possible error\n",
    "  index=category_id\n",
    "  indices = np.argsort(features_chi2[index]) \n",
    "  print(indices)                                 # Sorts the indices of features_chi2[0] - the chi-squared stats of each feature\n",
    "  feature_names = np.array(tfidf.get_feature_names())[indices]            # Converts indices to feature names ( in increasing order of chi-squared stat values)\n",
    "  unigrams = [v for v in feature_names if len(v.split(' ')) == 1]         # List of single word features ( in increasing order of chi-squared stat values)\n",
    "  bigrams = [v for v in feature_names if len(v.split(' ')) == 2]          # List for two-word features ( in increasing order of chi-squared stat values)\n",
    "  print(\"# '{}':\".format(Category))\n",
    "  print(\"  . Most correlated unigrams:\\n       . {}\".format('\\n       . '.join(unigrams[-N:]))) # Print 3 unigrams with highest Chi squared stat\n",
    "  print(\"  . Most correlated bigrams:\\n       . {}\".format('\\n       . '.join(bigrams[-N:]))) # Print 3 bigrams with highest Chi squared stat"
   ]
  },
  {
   "cell_type": "code",
   "execution_count": 9,
   "metadata": {
    "id": "kQvZ8PZ2rt82"
   },
   "outputs": [],
   "source": [
    "##dimension reduction \n",
    "from sklearn.manifold import TSNE #low dimensionality plot\n",
    "\n",
    "# Sampling a subset of our dataset because t-SNE is computationally expensive\n",
    "SAMPLE_SIZE = int(len(features) * 1)\n",
    "np.random.seed(0)\n",
    "indices = np.random.choice(range(len(features)), size=SAMPLE_SIZE, replace=False)          # Randomly select 30 % of samples\n",
    "projected_features = TSNE(n_components=2, random_state=0).fit_transform(features[indices]) # Array of all projected features of 30% of Randomly chosen samples "
   ]
  },
  {
   "cell_type": "code",
   "execution_count": 10,
   "metadata": {
    "colab": {
     "base_uri": "https://localhost:8080/",
     "height": 292
    },
    "id": "vpQGmbr9rt9E",
    "outputId": "a2c50adb-a53c-4c9f-c7ef-628c562a16ff"
   },
   "outputs": [
    {
     "data": {
      "text/plain": [
       "<matplotlib.legend.Legend at 0x1be00916b50>"
      ]
     },
     "execution_count": 10,
     "metadata": {},
     "output_type": "execute_result"
    },
    {
     "data": {
      "image/png": "[encoded data removed]",
      "text/plain": [
       "<Figure size 432x288 with 1 Axes>"
      ]
     },
     "metadata": {
      "needs_background": "light"
     },
     "output_type": "display_data"
    }
   ],
   "source": [
    "import matplotlib.pyplot as plt\n",
    "\n",
    "colors = ['pink', 'green']\n",
    "\n",
    "# Find points belonging to each category and plot them\n",
    "for category, category_id in sorted(category_to_id.items()):\n",
    "    points = projected_features[(labels[indices] == category_id).values]\n",
    "    plt.scatter(points[:, 0], points[:, 1], s=10, c=colors[category_id], label=category)\n",
    "plt.title(\"tf-idf feature vector for each article, projected on 2 dimensions.\",\n",
    "          fontdict=dict(fontsize=5))\n",
    "plt.legend()"
   ]
  },
  {
   "cell_type": "code",
   "execution_count": 11,
   "metadata": {
    "id": "lgHKnICcrt9P"
   },
   "outputs": [],
   "source": [
    "from sklearn.linear_model import LogisticRegression\n",
    "from sklearn.ensemble import RandomForestClassifier\n",
    "from sklearn.naive_bayes import MultinomialNB\n",
    "from sklearn.neighbors import KNeighborsClassifier\n",
    "\n",
    "from sklearn.model_selection import cross_val_score\n",
    "\n",
    "\n",
    "models = [\n",
    "    \n",
    "    RandomForestClassifier(n_estimators=500, max_depth=4, random_state=0),\n",
    "    MultinomialNB(),\n",
    "    LogisticRegression(random_state=0),\n",
    "    KNeighborsClassifier(n_neighbors=3)\n",
    "]"
   ]
  },
  {
   "cell_type": "code",
   "execution_count": 12,
   "metadata": {
    "id": "myZsAuNErt9d"
   },
   "outputs": [],
   "source": [
    "CV = 5  # Cross Validate with 5 different folds of 20% data ( 80-20 split with 5 folds )\n",
    "\n",
    "#Create a data frame that will store the results for all 5 trials of the 3 different models\n",
    "cv_df = pd.DataFrame(index=range(CV * len(models)))\n",
    "entries = [] # Initially all entries are empty\n",
    "\n",
    "#For each Algorithm \n",
    "for model in models:\n",
    "  model_name = model.__class__.__name__\n",
    "  # create 5 models with different 20% test sets, and store their accuracies\n",
    "  accuracies = cross_val_score(model, features, labels, scoring='accuracy', cv=CV)\n",
    "  # Append all 5 accuracies into the entries list ( after all 3 models are run, there will be 3x5 = 15 entries)\n",
    "  for fold_idx, accuracy in enumerate(accuracies):\n",
    "    entries.append((model_name, fold_idx, accuracy))"
   ]
  },
  {
   "cell_type": "code",
   "execution_count": 13,
   "metadata": {
    "colab": {
     "base_uri": "https://localhost:8080/",
     "height": 297
    },
    "id": "ws9r80XHrt9q",
    "outputId": "e43562a9-fd87-4477-f347-84b7c63fa5c8"
   },
   "outputs": [
    {
     "data": {
      "text/plain": [
       "<AxesSubplot:xlabel='model_name', ylabel='accuracy'>"
      ]
     },
     "execution_count": 13,
     "metadata": {},
     "output_type": "execute_result"
    },
    {
     "data": {
      "image/png": "[encoded data removed]",
      "text/plain": [
       "<Figure size 432x288 with 1 Axes>"
      ]
     },
     "metadata": {
      "needs_background": "light"
     },
     "output_type": "display_data"
    }
   ],
   "source": [
    "# Store the entries into the results dataframe and name its columns    \n",
    "cv_df = pd.DataFrame(entries, columns=['model_name', 'fold_idx', 'accuracy'])\n",
    "import seaborn as sns\n",
    "\n",
    "sns.boxplot(x='model_name', y='accuracy', data=cv_df)\n",
    "sns.stripplot(x='model_name', y='accuracy', data=cv_df, \n",
    "              size=5, jitter=True, edgecolor=\"gray\", linewidth=2)"
   ]
  },
  {
   "cell_type": "code",
   "execution_count": 14,
   "metadata": {
    "colab": {
     "base_uri": "https://localhost:8080/"
    },
    "id": "Nj-CxRyHrt93",
    "outputId": "d4a83b2a-fa12-4c12-b4bc-af5c429e225a"
   },
   "outputs": [
    {
     "data": {
      "text/plain": [
       "model_name\n",
       "KNeighborsClassifier      0.925333\n",
       "LogisticRegression        0.978006\n",
       "MultinomialNB             0.969257\n",
       "RandomForestClassifier    0.928285\n",
       "Name: accuracy, dtype: float64"
      ]
     },
     "execution_count": 14,
     "metadata": {},
     "output_type": "execute_result"
    }
   ],
   "source": [
    "cv_df.groupby('model_name').accuracy.mean()"
   ]
  },
  {
   "cell_type": "code",
   "execution_count": 15,
   "metadata": {
    "colab": {
     "base_uri": "https://localhost:8080/",
     "height": 665
    },
    "id": "yIPmvvQ1rt-E",
    "outputId": "1568f5db-349f-4606-86d6-34c551654713"
   },
   "outputs": [
    {
     "data": {
      "text/html": [
       "<div>\n",
       "<style scoped>\n",
       "    .dataframe tbody tr th:only-of-type {\n",
       "        vertical-align: middle;\n",
       "    }\n",
       "\n",
       "    .dataframe tbody tr th {\n",
       "        vertical-align: top;\n",
       "    }\n",
       "\n",
       "    .dataframe thead th {\n",
       "        text-align: right;\n",
       "    }\n",
       "</style>\n",
       "<table border=\"1\" class=\"dataframe\">\n",
       "  <thead>\n",
       "    <tr style=\"text-align: right;\">\n",
       "      <th></th>\n",
       "      <th>model_name</th>\n",
       "      <th>fold_idx</th>\n",
       "      <th>accuracy</th>\n",
       "    </tr>\n",
       "  </thead>\n",
       "  <tbody>\n",
       "    <tr>\n",
       "      <th>0</th>\n",
       "      <td>RandomForestClassifier</td>\n",
       "      <td>0</td>\n",
       "      <td>0.919708</td>\n",
       "    </tr>\n",
       "    <tr>\n",
       "      <th>1</th>\n",
       "      <td>RandomForestClassifier</td>\n",
       "      <td>1</td>\n",
       "      <td>0.934307</td>\n",
       "    </tr>\n",
       "    <tr>\n",
       "      <th>2</th>\n",
       "      <td>RandomForestClassifier</td>\n",
       "      <td>2</td>\n",
       "      <td>0.912409</td>\n",
       "    </tr>\n",
       "    <tr>\n",
       "      <th>3</th>\n",
       "      <td>RandomForestClassifier</td>\n",
       "      <td>3</td>\n",
       "      <td>0.933824</td>\n",
       "    </tr>\n",
       "    <tr>\n",
       "      <th>4</th>\n",
       "      <td>RandomForestClassifier</td>\n",
       "      <td>4</td>\n",
       "      <td>0.941176</td>\n",
       "    </tr>\n",
       "    <tr>\n",
       "      <th>5</th>\n",
       "      <td>MultinomialNB</td>\n",
       "      <td>0</td>\n",
       "      <td>0.927007</td>\n",
       "    </tr>\n",
       "    <tr>\n",
       "      <th>6</th>\n",
       "      <td>MultinomialNB</td>\n",
       "      <td>1</td>\n",
       "      <td>0.992701</td>\n",
       "    </tr>\n",
       "    <tr>\n",
       "      <th>7</th>\n",
       "      <td>MultinomialNB</td>\n",
       "      <td>2</td>\n",
       "      <td>0.985401</td>\n",
       "    </tr>\n",
       "    <tr>\n",
       "      <th>8</th>\n",
       "      <td>MultinomialNB</td>\n",
       "      <td>3</td>\n",
       "      <td>0.977941</td>\n",
       "    </tr>\n",
       "    <tr>\n",
       "      <th>9</th>\n",
       "      <td>MultinomialNB</td>\n",
       "      <td>4</td>\n",
       "      <td>0.963235</td>\n",
       "    </tr>\n",
       "    <tr>\n",
       "      <th>10</th>\n",
       "      <td>LogisticRegression</td>\n",
       "      <td>0</td>\n",
       "      <td>0.985401</td>\n",
       "    </tr>\n",
       "    <tr>\n",
       "      <th>11</th>\n",
       "      <td>LogisticRegression</td>\n",
       "      <td>1</td>\n",
       "      <td>0.985401</td>\n",
       "    </tr>\n",
       "    <tr>\n",
       "      <th>12</th>\n",
       "      <td>LogisticRegression</td>\n",
       "      <td>2</td>\n",
       "      <td>0.985401</td>\n",
       "    </tr>\n",
       "    <tr>\n",
       "      <th>13</th>\n",
       "      <td>LogisticRegression</td>\n",
       "      <td>3</td>\n",
       "      <td>0.963235</td>\n",
       "    </tr>\n",
       "    <tr>\n",
       "      <th>14</th>\n",
       "      <td>LogisticRegression</td>\n",
       "      <td>4</td>\n",
       "      <td>0.970588</td>\n",
       "    </tr>\n",
       "    <tr>\n",
       "      <th>15</th>\n",
       "      <td>KNeighborsClassifier</td>\n",
       "      <td>0</td>\n",
       "      <td>0.919708</td>\n",
       "    </tr>\n",
       "    <tr>\n",
       "      <th>16</th>\n",
       "      <td>KNeighborsClassifier</td>\n",
       "      <td>1</td>\n",
       "      <td>0.927007</td>\n",
       "    </tr>\n",
       "    <tr>\n",
       "      <th>17</th>\n",
       "      <td>KNeighborsClassifier</td>\n",
       "      <td>2</td>\n",
       "      <td>0.927007</td>\n",
       "    </tr>\n",
       "    <tr>\n",
       "      <th>18</th>\n",
       "      <td>KNeighborsClassifier</td>\n",
       "      <td>3</td>\n",
       "      <td>0.933824</td>\n",
       "    </tr>\n",
       "    <tr>\n",
       "      <th>19</th>\n",
       "      <td>KNeighborsClassifier</td>\n",
       "      <td>4</td>\n",
       "      <td>0.919118</td>\n",
       "    </tr>\n",
       "  </tbody>\n",
       "</table>\n",
       "</div>"
      ],
      "text/plain": [
       "                model_name  fold_idx  accuracy\n",
       "0   RandomForestClassifier         0  0.919708\n",
       "1   RandomForestClassifier         1  0.934307\n",
       "2   RandomForestClassifier         2  0.912409\n",
       "3   RandomForestClassifier         3  0.933824\n",
       "4   RandomForestClassifier         4  0.941176\n",
       "5            MultinomialNB         0  0.927007\n",
       "6            MultinomialNB         1  0.992701\n",
       "7            MultinomialNB         2  0.985401\n",
       "8            MultinomialNB         3  0.977941\n",
       "9            MultinomialNB         4  0.963235\n",
       "10      LogisticRegression         0  0.985401\n",
       "11      LogisticRegression         1  0.985401\n",
       "12      LogisticRegression         2  0.985401\n",
       "13      LogisticRegression         3  0.963235\n",
       "14      LogisticRegression         4  0.970588\n",
       "15    KNeighborsClassifier         0  0.919708\n",
       "16    KNeighborsClassifier         1  0.927007\n",
       "17    KNeighborsClassifier         2  0.927007\n",
       "18    KNeighborsClassifier         3  0.933824\n",
       "19    KNeighborsClassifier         4  0.919118"
      ]
     },
     "execution_count": 15,
     "metadata": {},
     "output_type": "execute_result"
    }
   ],
   "source": [
    "cv_df"
   ]
  },
  {
   "cell_type": "code",
   "execution_count": 16,
   "metadata": {
    "id": "OaXHhndZrt-P"
   },
   "outputs": [],
   "source": [
    "from sklearn.model_selection import train_test_split\n",
    "\n",
    "\n",
    "model = MultinomialNB()\n",
    "\n",
    "#Split Data \n",
    "X_train, X_test, y_train, y_test, indices_train, indices_test = train_test_split(features, labels, train_data.index, test_size=0.33, random_state=0)\n",
    "\n",
    "#Train Algorithm\n",
    "model.fit(X_train, y_train)\n",
    "\n",
    "# Make Predictions\n",
    "y_pred_proba = model.predict_proba(X_test)\n",
    "y_pred = model.predict(X_test)"
   ]
  },
  {
   "cell_type": "code",
   "execution_count": 17,
   "metadata": {
    "id": "saNW8iS9rt-T"
   },
   "outputs": [],
   "source": [
    "category_id_df = train_data[['label', 'category_id']].drop_duplicates().sort_values('category_id')"
   ]
  },
  {
   "cell_type": "code",
   "execution_count": 18,
   "metadata": {
    "colab": {
     "base_uri": "https://localhost:8080/",
     "height": 297
    },
    "id": "TKe0v6MFrt-a",
    "outputId": "0babf695-ffbb-43c0-e222-1d149e57cfae"
   },
   "outputs": [
    {
     "data": {
      "text/plain": [
       "Text(0.5, 14.09375, 'Predicted')"
      ]
     },
     "execution_count": 18,
     "metadata": {},
     "output_type": "execute_result"
    },
    {
     "data": {
      "image/png": "[encoded data removed]",
      "text/plain": [
       "<Figure size 432x288 with 2 Axes>"
      ]
     },
     "metadata": {
      "needs_background": "light"
     },
     "output_type": "display_data"
    }
   ],
   "source": [
    "from sklearn.metrics import confusion_matrix\n",
    "import seaborn as sns\n",
    "\n",
    "conf_mat = confusion_matrix(y_test, y_pred)\n",
    "sns.heatmap(conf_mat, annot=True, fmt='d',\n",
    "            xticklabels=category_id_df.label.values, yticklabels=category_id_df.label.values)\n",
    "plt.ylabel('Actual')\n",
    "plt.xlabel('Predicted')\n",
    "#run chi squared"
   ]
  },
  {
   "cell_type": "code",
   "execution_count": 19,
   "metadata": {
    "colab": {
     "base_uri": "https://localhost:8080/",
     "height": 151
    },
    "id": "CEPYI2Mart-q",
    "outputId": "b17dc46a-59f4-4533-c5e6-af525834e7ad",
    "scrolled": true
   },
   "outputs": [
    {
     "name": "stdout",
     "output_type": "stream",
     "text": [
      "'acknow' predicted as 'not_acknow' : 6 examples.\n"
     ]
    },
    {
     "data": {
      "text/plain": [
       "613    In this  in vitro study the plants were collec...\n",
       "332    In order to investigate the heating effects on...\n",
       "64           International Arctic Petroleum Cooperation.\n",
       "17     A Cooperation of Toll-like receptor signals in...\n",
       "413    IUCN Centre for Mediterranean Cooperation , Ca...\n",
       "498    The fractional distillation was done in Labora...\n",
       "Name: sentences, dtype: object"
      ]
     },
     "metadata": {},
     "output_type": "display_data"
    },
    {
     "name": "stdout",
     "output_type": "stream",
     "text": [
      "\n"
     ]
    }
   ],
   "source": [
    "from IPython.display import display\n",
    "\n",
    "for predicted in category_id_df.category_id:\n",
    "   for actual in category_id_df.category_id:\n",
    "    if predicted != actual and conf_mat[actual, predicted] >= 2:\n",
    "      print(\"'{}' predicted as '{}' : {} examples.\".format(id_to_category[actual], id_to_category[predicted], conf_mat[actual, predicted]))\n",
    "      display(train_data.loc[indices_test[(y_test == actual) & (y_pred == predicted)]]['sentences'])\n",
    "      print('')"
   ]
  },
  {
   "cell_type": "code",
   "execution_count": 20,
   "metadata": {
    "colab": {
     "base_uri": "https://localhost:8080/"
    },
    "id": "XLwrEUvirt-5",
    "outputId": "894360a9-bc00-485e-8f8f-b53265254e4a"
   },
   "outputs": [
    {
     "data": {
      "text/plain": [
       "RandomForestClassifier()"
      ]
     },
     "execution_count": 20,
     "metadata": {},
     "output_type": "execute_result"
    }
   ],
   "source": [
    "model2 = RandomForestClassifier()\n",
    "model2.fit(features, labels)"
   ]
  },
  {
   "cell_type": "code",
   "execution_count": 21,
   "metadata": {
    "colab": {
     "base_uri": "https://localhost:8080/",
     "height": 151
    },
    "id": "oIvYV63crt_B",
    "outputId": "68d3d92d-6310-4353-9d86-b56ea4351699"
   },
   "outputs": [
    {
     "name": "stdout",
     "output_type": "stream",
     "text": [
      "'acknow' predicted as 'not_acknow' : 6 examples.\n"
     ]
    },
    {
     "data": {
      "text/plain": [
       "613    In this  in vitro study the plants were collec...\n",
       "332    In order to investigate the heating effects on...\n",
       "64           International Arctic Petroleum Cooperation.\n",
       "17     A Cooperation of Toll-like receptor signals in...\n",
       "413    IUCN Centre for Mediterranean Cooperation , Ca...\n",
       "498    The fractional distillation was done in Labora...\n",
       "Name: sentences, dtype: object"
      ]
     },
     "metadata": {},
     "output_type": "display_data"
    },
    {
     "name": "stdout",
     "output_type": "stream",
     "text": [
      "\n"
     ]
    }
   ],
   "source": [
    "from IPython.display import display\n",
    "\n",
    "for predicted in category_id_df.category_id:\n",
    "   for actual in category_id_df.category_id:\n",
    "    if predicted != actual and conf_mat[actual, predicted] >= 2:\n",
    "      print(\"'{}' predicted as '{}' : {} examples.\".format(id_to_category[actual], id_to_category[predicted], conf_mat[actual, predicted]))\n",
    "      display(train_data.loc[indices_test[(y_test == actual) & (y_pred == predicted)]]['sentences'])\n",
    "      print('')"
   ]
  },
  {
   "cell_type": "code",
   "execution_count": 22,
   "metadata": {},
   "outputs": [],
   "source": [
    "from sklearn.model_selection import train_test_split\n",
    "from sklearn.feature_extraction.text import CountVectorizer\n",
    "from sklearn.feature_extraction.text import TfidfTransformer\n",
    "from sklearn.naive_bayes import MultinomialNB\n",
    "X_train, X_test, y_train, y_test = train_test_split(train_data['sentences'], train_data['label'], random_state = 0)\n",
    "count_vect = CountVectorizer()\n",
    "X_train_counts = count_vect.fit_transform(X_train)\n",
    "tfidf_transformer = TfidfTransformer()\n",
    "X_train_tfidf = tfidf_transformer.fit_transform(X_train_counts)\n",
    "clf = MultinomialNB().fit(X_train_tfidf, y_train)\n"
   ]
  },
  {
   "cell_type": "code",
   "execution_count": 23,
   "metadata": {},
   "outputs": [
    {
     "name": "stdout",
     "output_type": "stream",
     "text": [
      "['acknow' 'acknow' 'not_acknow' 'acknow' 'not_acknow']\n"
     ]
    }
   ],
   "source": [
    "print(clf.predict(count_vect.transform([\"S.L. and S.‐Q.Z. contributed equally to this work. This work was supported by the National Natural Science Foundation of China (51672156), Local Innovative Research Teams Project of Guangdong Pearl River Talents Program (No. 2017BT01N111), Guangdong Province Technical Plan Project (2017B010119001 and 2017B090907005), Shenzhen Technical Plan Project (JCYJ20180508152210821, JCYJ20170817161221958, and JCYJ20170412170706047), and major consulting and research projects of Tianjin Research Institute for Development Strategy of China's Engineering Science and Technology.\",\"This research project was supported by a grant from the Research Centre of the Female Centre for Scientific and Medical Colleges of King Saud University\",\"Collected plant material\",\"The authors are grateful to FAPERJ, CNPq FOPESQ–UFF for financial support to the present work.\",\"However, we acknowledge that this does not necessarily have to be the case for all time series, as individuals might die or not be detectable due to other reasons.\"])))"
   ]
  },
  {
   "cell_type": "code",
   "execution_count": 24,
   "metadata": {},
   "outputs": [],
   "source": [
    "filename = 'finalized_model.sav'\n",
    "pickle.dump(clf, open(filename, 'wb'))"
   ]
  },
  {
   "cell_type": "code",
   "execution_count": null,
   "metadata": {},
   "outputs": [],
   "source": []
  },
  {
   "cell_type": "code",
   "execution_count": null,
   "metadata": {},
   "outputs": [],
   "source": []
  },
  {
   "cell_type": "code",
   "execution_count": null,
   "metadata": {},
   "outputs": [],
   "source": []
  },
  {
   "cell_type": "code",
   "execution_count": null,
   "metadata": {},
   "outputs": [],
   "source": []
  }
 ],
 "metadata": {
  "colab": {
   "collapsed_sections": [],
   "name": "acknowledgments_classifier.ipynb",
   "provenance": []
  },
  "kernelspec": {
   "display_name": "Python 3",
   "language": "python",
   "name": "python3"
  },
  "language_info": {
   "codemirror_mode": {
    "name": "ipython",
    "version": 3
   },
   "file_extension": ".py",
   "mimetype": "text/x-python",
   "name": "python",
   "nbconvert_exporter": "python",
   "pygments_lexer": "ipython3",
   "version": "3.9.5"
  }
 },
 "nbformat": 4,
 "nbformat_minor": 1
}
