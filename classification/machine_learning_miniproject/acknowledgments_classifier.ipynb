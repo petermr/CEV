{
  "nbformat": 4,
  "nbformat_minor": 0,
  "metadata": {
    "kernelspec": {
      "display_name": "TensorFlow-GPU-1.13",
      "language": "python",
      "name": "tf-gpu"
    },
    "language_info": {
      "codemirror_mode": {
        "name": "ipython",
        "version": 3
      },
      "file_extension": ".py",
      "mimetype": "text/x-python",
      "name": "python",
      "nbconvert_exporter": "python",
      "pygments_lexer": "ipython3",
      "version": "3.7.7"
    },
    "colab": {
      "name": "acknowledgments_classifier.ipynb",
      "provenance": [],
      "collapsed_sections": []
    }
  },
  "cells": [
    {
      "cell_type": "code",
      "metadata": {
        "id": "rWpPJuyjrt7E"
      },
      "source": [
        "import xml.etree.ElementTree as ET\n",
        "import string\n",
        "import os  \n",
        "import re\n",
        "import pandas as pd"
      ],
      "execution_count": null,
      "outputs": []
    },
    {
      "cell_type": "code",
      "metadata": {
        "id": "JESEPqwPrt7Z"
      },
      "source": [
        "import pandas as pd\n",
        "url = 'https://github.com/petermr/CEVOpen/blob/master/classification/machine_learning_miniproject/labelled_sent_ack.csv'\n",
        "train_data = pd.read_csv('/content/labelled_sent_ack1.csv')\n",
        "\n",
        "\n",
        " \n",
        "\n",
        "\n",
        "train_data = train_data.sample(frac=1).reset_index(drop=True)  #shufffle the dataset"
      ],
      "execution_count": null,
      "outputs": []
    },
    {
      "cell_type": "code",
      "metadata": {
        "id": "qWp2hi91rt7s",
        "colab": {
          "base_uri": "https://localhost:8080/",
          "height": 203
        },
        "outputId": "b521a67f-04fd-4236-ae75-d645c3c78c86"
      },
      "source": [
        "train_data.head()"
      ],
      "execution_count": null,
      "outputs": [
        {
          "output_type": "execute_result",
          "data": {
            "text/html": [
              "<div>\n",
              "<style scoped>\n",
              "    .dataframe tbody tr th:only-of-type {\n",
              "        vertical-align: middle;\n",
              "    }\n",
              "\n",
              "    .dataframe tbody tr th {\n",
              "        vertical-align: top;\n",
              "    }\n",
              "\n",
              "    .dataframe thead th {\n",
              "        text-align: right;\n",
              "    }\n",
              "</style>\n",
              "<table border=\"1\" class=\"dataframe\">\n",
              "  <thead>\n",
              "    <tr style=\"text-align: right;\">\n",
              "      <th></th>\n",
              "      <th>sentences</th>\n",
              "      <th>label</th>\n",
              "    </tr>\n",
              "  </thead>\n",
              "  <tbody>\n",
              "    <tr>\n",
              "      <th>0</th>\n",
              "      <td>['From 50 individual   M. piperita  L. plants ...</td>\n",
              "      <td>not_acknow</td>\n",
              "    </tr>\n",
              "    <tr>\n",
              "      <th>1</th>\n",
              "      <td>The authors would like to express their gratit...</td>\n",
              "      <td>acknow</td>\n",
              "    </tr>\n",
              "    <tr>\n",
              "      <th>2</th>\n",
              "      <td>The authors sincerely thank Dr. Seyed Mansour ...</td>\n",
              "      <td>acknow</td>\n",
              "    </tr>\n",
              "    <tr>\n",
              "      <th>3</th>\n",
              "      <td>The aim of this study was to determine the fun...</td>\n",
              "      <td>not_acknow</td>\n",
              "    </tr>\n",
              "    <tr>\n",
              "      <th>4</th>\n",
              "      <td>['The antibacterial activities of the essentia...</td>\n",
              "      <td>not_acknow</td>\n",
              "    </tr>\n",
              "  </tbody>\n",
              "</table>\n",
              "</div>"
            ],
            "text/plain": [
              "                                           sentences       label\n",
              "0  ['From 50 individual   M. piperita  L. plants ...  not_acknow\n",
              "1  The authors would like to express their gratit...      acknow\n",
              "2  The authors sincerely thank Dr. Seyed Mansour ...      acknow\n",
              "3  The aim of this study was to determine the fun...  not_acknow\n",
              "4  ['The antibacterial activities of the essentia...  not_acknow"
            ]
          },
          "metadata": {
            "tags": []
          },
          "execution_count": 64
        }
      ]
    },
    {
      "cell_type": "code",
      "metadata": {
        "id": "IcgTnZR_rt71"
      },
      "source": [
        "train_data['category_id'] = train_data['label'].factorize()[0] # factorizing the output into zero and one"
      ],
      "execution_count": null,
      "outputs": []
    },
    {
      "cell_type": "code",
      "metadata": {
        "id": "UDCzXwILrt8E",
        "colab": {
          "base_uri": "https://localhost:8080/",
          "height": 345
        },
        "outputId": "f032ad42-37ff-41ca-e38d-d6f6982c9e36"
      },
      "source": [
        "train_data.groupby('label').category_id.count().plot.bar(ylim=0)"
      ],
      "execution_count": null,
      "outputs": [
        {
          "output_type": "execute_result",
          "data": {
            "text/plain": [
              "<matplotlib.axes._subplots.AxesSubplot at 0x7ff2ef278350>"
            ]
          },
          "metadata": {
            "tags": []
          },
          "execution_count": 66
        },
        {
          "output_type": "display_data",
          "data": {
            "image/png": "[encoded data removed]",
            "text/plain": [
              "<Figure size 432x288 with 1 Axes>"
            ]
          },
          "metadata": {
            "tags": [],
            "needs_background": "light"
          }
        }
      ]
    },
    {
      "cell_type": "code",
      "metadata": {
        "id": "HEH5qKH5rt8T"
      },
      "source": [
        "from sklearn.feature_extraction.text import TfidfVectorizer # term frequency & inverse document frequency (finding important words within text)\n",
        "tfidf = TfidfVectorizer(sublinear_tf=True, min_df=2, norm='l2', encoding='latin-1', ngram_range=(1, 3), stop_words='english')\n",
        "features = tfidf.fit_transform(train_data.sentences).toarray()\n",
        "labels = train_data.category_id"
      ],
      "execution_count": null,
      "outputs": []
    },
    {
      "cell_type": "code",
      "metadata": {
        "id": "vd6bW6FVrt8e"
      },
      "source": [
        "category_to_id = {'acknow':0, 'not_acknow':1}\n",
        "id_to_category = {0: 'acknow', 1: 'not_acknow'}"
      ],
      "execution_count": null,
      "outputs": []
    },
    {
      "cell_type": "code",
      "metadata": {
        "id": "dIfkCYIGrt8t",
        "colab": {
          "base_uri": "https://localhost:8080/"
        },
        "outputId": "6c3f4886-fcb9-4ed3-caad-4e98cf13f897"
      },
      "source": [
        "# Use chi-square analysis to find corelation between features (importantce of words) and labels(news category) \n",
        "from sklearn.feature_selection import chi2\n",
        "import numpy as np\n",
        "\n",
        "N = 10  # We are going to look for top 3 categories\n",
        "\n",
        "#For each category, find words that are highly corelated to it\n",
        "for Category, category_id in sorted(category_to_id.items()):\n",
        "  print (f\"{category_id} {Category}\")\n",
        "  features_chi2 = chi2(features, labels == category_id)  \n",
        "  print(features_chi2)                 # Do chi2 analyses of all items in this category\n",
        "  #index=0 # Possible error\n",
        "  index=category_id\n",
        "  indices = np.argsort(features_chi2[index]) \n",
        "  print(indices)                                 # Sorts the indices of features_chi2[0] - the chi-squared stats of each feature\n",
        "  feature_names = np.array(tfidf.get_feature_names())[indices]            # Converts indices to feature names ( in increasing order of chi-squared stat values)\n",
        "  unigrams = [v for v in feature_names if len(v.split(' ')) == 1]         # List of single word features ( in increasing order of chi-squared stat values)\n",
        "  bigrams = [v for v in feature_names if len(v.split(' ')) == 2]          # List for two-word features ( in increasing order of chi-squared stat values)\n",
        "  print(\"# '{}':\".format(Category))\n",
        "  print(\"  . Most correlated unigrams:\\n       . {}\".format('\\n       . '.join(unigrams[-N:]))) # Print 3 unigrams with highest Chi squared stat\n",
        "  print(\"  . Most correlated bigrams:\\n       . {}\".format('\\n       . '.join(bigrams[-N:]))) # Print 3 bigrams with highest Chi squared stat"
      ],
      "execution_count": null,
      "outputs": [
        {
          "output_type": "stream",
          "text": [
            "0 acknow\n",
            "(array([0.16322683, 0.16322683, 0.16322683, ..., 0.38792336, 0.86921955,\n",
            "       0.52488895]), array([0.68620286, 0.68620286, 0.68620286, ..., 0.533393  , 0.35117146,\n",
            "       0.46876361]))\n",
            "[818 563 860 ... 898 162 259]\n",
            "# 'acknow':\n",
            "  . Most correlated unigrams:\n",
            "       . work\n",
            "       . leaves\n",
            "       . university\n",
            "       . research\n",
            "       . grateful\n",
            "       . financial\n",
            "       . thank\n",
            "       . support\n",
            "       . authors\n",
            "       . collected\n",
            "  . Most correlated bigrams:\n",
            "       . blood collected\n",
            "       . financially supported\n",
            "       . samples collected\n",
            "       . scientific research\n",
            "       . aerial parts\n",
            "       . authors thank\n",
            "       . authors grateful\n",
            "       . like thank\n",
            "       . authors like\n",
            "       . financial support\n",
            "1 not_acknow\n",
            "(array([0.16322683, 0.16322683, 0.16322683, ..., 0.38792336, 0.86921955,\n",
            "       0.52488895]), array([0.68620286, 0.68620286, 0.68620286, ..., 0.533393  , 0.35117146,\n",
            "       0.46876361]))\n",
            "[259 162 898 ... 198 563 818]\n",
            "# 'not_acknow':\n",
            "  . Most correlated unigrams:\n",
            "       . traditional\n",
            "       . bello\n",
            "       . identification\n",
            "       . tropical\n",
            "       . far\n",
            "       . agadir\n",
            "       . china\n",
            "       . shahid\n",
            "       . bahonar\n",
            "       . land\n",
            "  . Most correlated bigrams:\n",
            "       . allium sativum\n",
            "       . cell culture\n",
            "       . laboratory department\n",
            "       . sciences kerman\n",
            "       . kerman university\n",
            "       . south africa\n",
            "       . bahonar university\n",
            "       . shahid bahonar\n",
            "       . university kerman\n",
            "       . samples allium\n"
          ],
          "name": "stdout"
        }
      ]
    },
    {
      "cell_type": "code",
      "metadata": {
        "id": "kQvZ8PZ2rt82"
      },
      "source": [
        "##dimension reduction \n",
        "from sklearn.manifold import TSNE #low dimensionality plot\n",
        "\n",
        "# Sampling a subset of our dataset because t-SNE is computationally expensive\n",
        "SAMPLE_SIZE = int(len(features) * 1)\n",
        "np.random.seed(0)\n",
        "indices = np.random.choice(range(len(features)), size=SAMPLE_SIZE, replace=False)          # Randomly select 30 % of samples\n",
        "projected_features = TSNE(n_components=2, random_state=0).fit_transform(features[indices]) # Array of all projected features of 30% of Randomly chosen samples "
      ],
      "execution_count": null,
      "outputs": []
    },
    {
      "cell_type": "code",
      "metadata": {
        "id": "vpQGmbr9rt9E",
        "colab": {
          "base_uri": "https://localhost:8080/",
          "height": 292
        },
        "outputId": "a2c50adb-a53c-4c9f-c7ef-628c562a16ff"
      },
      "source": [
        "import matplotlib.pyplot as plt\n",
        "\n",
        "colors = ['pink', 'green']\n",
        "\n",
        "# Find points belonging to each category and plot them\n",
        "for category, category_id in sorted(category_to_id.items()):\n",
        "    points = projected_features[(labels[indices] == category_id).values]\n",
        "    plt.scatter(points[:, 0], points[:, 1], s=10, c=colors[category_id], label=category)\n",
        "plt.title(\"tf-idf feature vector for each article, projected on 2 dimensions.\",\n",
        "          fontdict=dict(fontsize=5))\n",
        "plt.legend()"
      ],
      "execution_count": null,
      "outputs": [
        {
          "output_type": "execute_result",
          "data": {
            "text/plain": [
              "<matplotlib.legend.Legend at 0x7ff2ef304290>"
            ]
          },
          "metadata": {
            "tags": []
          },
          "execution_count": 72
        },
        {
          "output_type": "display_data",
          "data": {
            "image/png": "[encoded data removed]",
            "text/plain": [
              "<Figure size 432x288 with 1 Axes>"
            ]
          },
          "metadata": {
            "tags": [],
            "needs_background": "light"
          }
        }
      ]
    },
    {
      "cell_type": "code",
      "metadata": {
        "id": "lgHKnICcrt9P"
      },
      "source": [
        "from sklearn.linear_model import LogisticRegression\n",
        "from sklearn.ensemble import RandomForestClassifier\n",
        "from sklearn.naive_bayes import MultinomialNB\n",
        "from sklearn.neighbors import KNeighborsClassifier\n",
        "\n",
        "from sklearn.model_selection import cross_val_score\n",
        "\n",
        "\n",
        "models = [\n",
        "    \n",
        "    RandomForestClassifier(n_estimators=500, max_depth=4, random_state=0),\n",
        "    MultinomialNB(),\n",
        "    LogisticRegression(random_state=0),\n",
        "    KNeighborsClassifier(n_neighbors=3)\n",
        "]"
      ],
      "execution_count": null,
      "outputs": []
    },
    {
      "cell_type": "code",
      "metadata": {
        "id": "myZsAuNErt9d"
      },
      "source": [
        "CV = 5  # Cross Validate with 5 different folds of 20% data ( 80-20 split with 5 folds )\n",
        "\n",
        "#Create a data frame that will store the results for all 5 trials of the 3 different models\n",
        "cv_df = pd.DataFrame(index=range(CV * len(models)))\n",
        "entries = [] # Initially all entries are empty\n",
        "\n",
        "#For each Algorithm \n",
        "for model in models:\n",
        "  model_name = model.__class__.__name__\n",
        "  # create 5 models with different 20% test sets, and store their accuracies\n",
        "  accuracies = cross_val_score(model, features, labels, scoring='accuracy', cv=CV)\n",
        "  # Append all 5 accuracies into the entries list ( after all 3 models are run, there will be 3x5 = 15 entries)\n",
        "  for fold_idx, accuracy in enumerate(accuracies):\n",
        "    entries.append((model_name, fold_idx, accuracy))"
      ],
      "execution_count": null,
      "outputs": []
    },
    {
      "cell_type": "code",
      "metadata": {
        "id": "ws9r80XHrt9q",
        "colab": {
          "base_uri": "https://localhost:8080/",
          "height": 297
        },
        "outputId": "e43562a9-fd87-4477-f347-84b7c63fa5c8"
      },
      "source": [
        "# Store the entries into the results dataframe and name its columns    \n",
        "cv_df = pd.DataFrame(entries, columns=['model_name', 'fold_idx', 'accuracy'])\n",
        "import seaborn as sns\n",
        "\n",
        "sns.boxplot(x='model_name', y='accuracy', data=cv_df)\n",
        "sns.stripplot(x='model_name', y='accuracy', data=cv_df, \n",
        "              size=5, jitter=True, edgecolor=\"gray\", linewidth=2)"
      ],
      "execution_count": null,
      "outputs": [
        {
          "output_type": "execute_result",
          "data": {
            "text/plain": [
              "<matplotlib.axes._subplots.AxesSubplot at 0x7ff2ef10f0d0>"
            ]
          },
          "metadata": {
            "tags": []
          },
          "execution_count": 75
        },
        {
          "output_type": "display_data",
          "data": {
            "image/png": "[encoded data removed]",
            "text/plain": [
              "<Figure size 432x288 with 1 Axes>"
            ]
          },
          "metadata": {
            "tags": [],
            "needs_background": "light"
          }
        }
      ]
    },
    {
      "cell_type": "code",
      "metadata": {
        "id": "Nj-CxRyHrt93",
        "colab": {
          "base_uri": "https://localhost:8080/"
        },
        "outputId": "d4a83b2a-fa12-4c12-b4bc-af5c429e225a"
      },
      "source": [
        "cv_df.groupby('model_name').accuracy.mean()"
      ],
      "execution_count": null,
      "outputs": [
        {
          "output_type": "execute_result",
          "data": {
            "text/plain": [
              "model_name\n",
              "KNeighborsClassifier      0.931822\n",
              "LogisticRegression        0.987142\n",
              "MultinomialNB             0.970120\n",
              "RandomForestClassifier    0.982886\n",
              "Name: accuracy, dtype: float64"
            ]
          },
          "metadata": {
            "tags": []
          },
          "execution_count": 76
        }
      ]
    },
    {
      "cell_type": "code",
      "metadata": {
        "id": "yIPmvvQ1rt-E",
        "colab": {
          "base_uri": "https://localhost:8080/",
          "height": 665
        },
        "outputId": "1568f5db-349f-4606-86d6-34c551654713"
      },
      "source": [
        "cv_df"
      ],
      "execution_count": null,
      "outputs": [
        {
          "output_type": "execute_result",
          "data": {
            "text/html": [
              "<div>\n",
              "<style scoped>\n",
              "    .dataframe tbody tr th:only-of-type {\n",
              "        vertical-align: middle;\n",
              "    }\n",
              "\n",
              "    .dataframe tbody tr th {\n",
              "        vertical-align: top;\n",
              "    }\n",
              "\n",
              "    .dataframe thead th {\n",
              "        text-align: right;\n",
              "    }\n",
              "</style>\n",
              "<table border=\"1\" class=\"dataframe\">\n",
              "  <thead>\n",
              "    <tr style=\"text-align: right;\">\n",
              "      <th></th>\n",
              "      <th>model_name</th>\n",
              "      <th>fold_idx</th>\n",
              "      <th>accuracy</th>\n",
              "    </tr>\n",
              "  </thead>\n",
              "  <tbody>\n",
              "    <tr>\n",
              "      <th>0</th>\n",
              "      <td>RandomForestClassifier</td>\n",
              "      <td>0</td>\n",
              "      <td>0.978723</td>\n",
              "    </tr>\n",
              "    <tr>\n",
              "      <th>1</th>\n",
              "      <td>RandomForestClassifier</td>\n",
              "      <td>1</td>\n",
              "      <td>0.978723</td>\n",
              "    </tr>\n",
              "    <tr>\n",
              "      <th>2</th>\n",
              "      <td>RandomForestClassifier</td>\n",
              "      <td>2</td>\n",
              "      <td>0.978723</td>\n",
              "    </tr>\n",
              "    <tr>\n",
              "      <th>3</th>\n",
              "      <td>RandomForestClassifier</td>\n",
              "      <td>3</td>\n",
              "      <td>1.000000</td>\n",
              "    </tr>\n",
              "    <tr>\n",
              "      <th>4</th>\n",
              "      <td>RandomForestClassifier</td>\n",
              "      <td>4</td>\n",
              "      <td>0.978261</td>\n",
              "    </tr>\n",
              "    <tr>\n",
              "      <th>5</th>\n",
              "      <td>MultinomialNB</td>\n",
              "      <td>0</td>\n",
              "      <td>1.000000</td>\n",
              "    </tr>\n",
              "    <tr>\n",
              "      <th>6</th>\n",
              "      <td>MultinomialNB</td>\n",
              "      <td>1</td>\n",
              "      <td>0.914894</td>\n",
              "    </tr>\n",
              "    <tr>\n",
              "      <th>7</th>\n",
              "      <td>MultinomialNB</td>\n",
              "      <td>2</td>\n",
              "      <td>1.000000</td>\n",
              "    </tr>\n",
              "    <tr>\n",
              "      <th>8</th>\n",
              "      <td>MultinomialNB</td>\n",
              "      <td>3</td>\n",
              "      <td>0.957447</td>\n",
              "    </tr>\n",
              "    <tr>\n",
              "      <th>9</th>\n",
              "      <td>MultinomialNB</td>\n",
              "      <td>4</td>\n",
              "      <td>0.978261</td>\n",
              "    </tr>\n",
              "    <tr>\n",
              "      <th>10</th>\n",
              "      <td>LogisticRegression</td>\n",
              "      <td>0</td>\n",
              "      <td>1.000000</td>\n",
              "    </tr>\n",
              "    <tr>\n",
              "      <th>11</th>\n",
              "      <td>LogisticRegression</td>\n",
              "      <td>1</td>\n",
              "      <td>1.000000</td>\n",
              "    </tr>\n",
              "    <tr>\n",
              "      <th>12</th>\n",
              "      <td>LogisticRegression</td>\n",
              "      <td>2</td>\n",
              "      <td>1.000000</td>\n",
              "    </tr>\n",
              "    <tr>\n",
              "      <th>13</th>\n",
              "      <td>LogisticRegression</td>\n",
              "      <td>3</td>\n",
              "      <td>0.957447</td>\n",
              "    </tr>\n",
              "    <tr>\n",
              "      <th>14</th>\n",
              "      <td>LogisticRegression</td>\n",
              "      <td>4</td>\n",
              "      <td>0.978261</td>\n",
              "    </tr>\n",
              "    <tr>\n",
              "      <th>15</th>\n",
              "      <td>KNeighborsClassifier</td>\n",
              "      <td>0</td>\n",
              "      <td>0.957447</td>\n",
              "    </tr>\n",
              "    <tr>\n",
              "      <th>16</th>\n",
              "      <td>KNeighborsClassifier</td>\n",
              "      <td>1</td>\n",
              "      <td>0.851064</td>\n",
              "    </tr>\n",
              "    <tr>\n",
              "      <th>17</th>\n",
              "      <td>KNeighborsClassifier</td>\n",
              "      <td>2</td>\n",
              "      <td>0.957447</td>\n",
              "    </tr>\n",
              "    <tr>\n",
              "      <th>18</th>\n",
              "      <td>KNeighborsClassifier</td>\n",
              "      <td>3</td>\n",
              "      <td>0.914894</td>\n",
              "    </tr>\n",
              "    <tr>\n",
              "      <th>19</th>\n",
              "      <td>KNeighborsClassifier</td>\n",
              "      <td>4</td>\n",
              "      <td>0.978261</td>\n",
              "    </tr>\n",
              "  </tbody>\n",
              "</table>\n",
              "</div>"
            ],
            "text/plain": [
              "                model_name  fold_idx  accuracy\n",
              "0   RandomForestClassifier         0  0.978723\n",
              "1   RandomForestClassifier         1  0.978723\n",
              "2   RandomForestClassifier         2  0.978723\n",
              "3   RandomForestClassifier         3  1.000000\n",
              "4   RandomForestClassifier         4  0.978261\n",
              "5            MultinomialNB         0  1.000000\n",
              "6            MultinomialNB         1  0.914894\n",
              "7            MultinomialNB         2  1.000000\n",
              "8            MultinomialNB         3  0.957447\n",
              "9            MultinomialNB         4  0.978261\n",
              "10      LogisticRegression         0  1.000000\n",
              "11      LogisticRegression         1  1.000000\n",
              "12      LogisticRegression         2  1.000000\n",
              "13      LogisticRegression         3  0.957447\n",
              "14      LogisticRegression         4  0.978261\n",
              "15    KNeighborsClassifier         0  0.957447\n",
              "16    KNeighborsClassifier         1  0.851064\n",
              "17    KNeighborsClassifier         2  0.957447\n",
              "18    KNeighborsClassifier         3  0.914894\n",
              "19    KNeighborsClassifier         4  0.978261"
            ]
          },
          "metadata": {
            "tags": []
          },
          "execution_count": 77
        }
      ]
    },
    {
      "cell_type": "code",
      "metadata": {
        "id": "OaXHhndZrt-P"
      },
      "source": [
        "from sklearn.model_selection import train_test_split\n",
        "\n",
        "#model = RandomForestClassifier()\n",
        "model = MultinomialNB()\n",
        "\n",
        "#Split Data \n",
        "X_train, X_test, y_train, y_test, indices_train, indices_test = train_test_split(features, labels, train_data.index, test_size=0.33, random_state=0)\n",
        "\n",
        "#Train Algorithm\n",
        "model.fit(X_train, y_train)\n",
        "\n",
        "# Make Predictions\n",
        "y_pred_proba = model.predict_proba(X_test)\n",
        "y_pred = model.predict(X_test)"
      ],
      "execution_count": null,
      "outputs": []
    },
    {
      "cell_type": "code",
      "metadata": {
        "id": "saNW8iS9rt-T"
      },
      "source": [
        "category_id_df = train_data[['label', 'category_id']].drop_duplicates().sort_values('category_id')"
      ],
      "execution_count": null,
      "outputs": []
    },
    {
      "cell_type": "code",
      "metadata": {
        "id": "TKe0v6MFrt-a",
        "colab": {
          "base_uri": "https://localhost:8080/",
          "height": 297
        },
        "outputId": "0babf695-ffbb-43c0-e222-1d149e57cfae"
      },
      "source": [
        "from sklearn.metrics import confusion_matrix\n",
        "import seaborn as sns\n",
        "\n",
        "conf_mat = confusion_matrix(y_test, y_pred)\n",
        "sns.heatmap(conf_mat, annot=True, fmt='d',\n",
        "            xticklabels=category_id_df.label.values, yticklabels=category_id_df.label.values)\n",
        "plt.ylabel('Actual')\n",
        "plt.xlabel('Predicted')\n",
        "#run chi squared"
      ],
      "execution_count": null,
      "outputs": [
        {
          "output_type": "execute_result",
          "data": {
            "text/plain": [
              "Text(0.5, 14.09375, 'Predicted')"
            ]
          },
          "metadata": {
            "tags": []
          },
          "execution_count": 80
        },
        {
          "output_type": "display_data",
          "data": {
            "image/png": "[encoded data removed]",
            "text/plain": [
              "<Figure size 432x288 with 2 Axes>"
            ]
          },
          "metadata": {
            "tags": [],
            "needs_background": "light"
          }
        }
      ]
    },
    {
      "cell_type": "code",
      "metadata": {
        "scrolled": true,
        "id": "CEPYI2Mart-q",
        "colab": {
          "base_uri": "https://localhost:8080/",
          "height": 151
        },
        "outputId": "b17dc46a-59f4-4533-c5e6-af525834e7ad"
      },
      "source": [
        "from IPython.display import display\n",
        "\n",
        "for predicted in category_id_df.category_id:\n",
        "   for actual in category_id_df.category_id:\n",
        "    if predicted != actual and conf_mat[actual, predicted] >= 2:\n",
        "      print(\"'{}' predicted as '{}' : {} examples.\".format(id_to_category[actual], id_to_category[predicted], conf_mat[actual, predicted]))\n",
        "      display(train_data.loc[indices_test[(y_test == actual) & (y_pred == predicted)]]['sentences'])\n",
        "      print('')"
      ],
      "execution_count": null,
      "outputs": [
        {
          "output_type": "stream",
          "text": [
            "'acknow' predicted as 'not_acknow' : 5 examples.\n"
          ],
          "name": "stdout"
        },
        {
          "output_type": "display_data",
          "data": {
            "text/plain": [
              "106    IUCN Centre for Mediterranean Cooperation , Ca...\n",
              "136    Generally, it is assumed that the MVA pathway ...\n",
              "90     ['The microorganisms were collected from the I...\n",
              "52     A Cooperation of Toll-like receptor signals in...\n",
              "40     It constitutes an important step in the develo...\n",
              "Name: sentences, dtype: object"
            ]
          },
          "metadata": {
            "tags": []
          }
        },
        {
          "output_type": "stream",
          "text": [
            "\n"
          ],
          "name": "stdout"
        }
      ]
    },
    {
      "cell_type": "code",
      "metadata": {
        "id": "XLwrEUvirt-5",
        "colab": {
          "base_uri": "https://localhost:8080/"
        },
        "outputId": "894360a9-bc00-485e-8f8f-b53265254e4a"
      },
      "source": [
        "model2 = RandomForestClassifier()\n",
        "model2.fit(features, labels)"
      ],
      "execution_count": null,
      "outputs": [
        {
          "output_type": "execute_result",
          "data": {
            "text/plain": [
              "RandomForestClassifier(bootstrap=True, ccp_alpha=0.0, class_weight=None,\n",
              "                       criterion='gini', max_depth=None, max_features='auto',\n",
              "                       max_leaf_nodes=None, max_samples=None,\n",
              "                       min_impurity_decrease=0.0, min_impurity_split=None,\n",
              "                       min_samples_leaf=1, min_samples_split=2,\n",
              "                       min_weight_fraction_leaf=0.0, n_estimators=100,\n",
              "                       n_jobs=None, oob_score=False, random_state=None,\n",
              "                       verbose=0, warm_start=False)"
            ]
          },
          "metadata": {
            "tags": []
          },
          "execution_count": 57
        }
      ]
    },
    {
      "cell_type": "code",
      "metadata": {
        "id": "oIvYV63crt_B",
        "colab": {
          "base_uri": "https://localhost:8080/",
          "height": 151
        },
        "outputId": "68d3d92d-6310-4353-9d86-b56ea4351699"
      },
      "source": [
        "from IPython.display import display\n",
        "\n",
        "for predicted in category_id_df.category_id:\n",
        "   for actual in category_id_df.category_id:\n",
        "    if predicted != actual and conf_mat[actual, predicted] >= 2:\n",
        "      print(\"'{}' predicted as '{}' : {} examples.\".format(id_to_category[actual], id_to_category[predicted], conf_mat[actual, predicted]))\n",
        "      display(train_data.loc[indices_test[(y_test == actual) & (y_pred == predicted)]]['sentences'])\n",
        "      print('')"
      ],
      "execution_count": null,
      "outputs": [
        {
          "output_type": "stream",
          "text": [
            "'acknow' predicted as 'not_acknow' : 5 examples.\n"
          ],
          "name": "stdout"
        },
        {
          "output_type": "display_data",
          "data": {
            "text/plain": [
              "106    IUCN Centre for Mediterranean Cooperation , Ca...\n",
              "136    Generally, it is assumed that the MVA pathway ...\n",
              "90     ['The microorganisms were collected from the I...\n",
              "52     A Cooperation of Toll-like receptor signals in...\n",
              "40     It constitutes an important step in the develo...\n",
              "Name: sentences, dtype: object"
            ]
          },
          "metadata": {
            "tags": []
          }
        },
        {
          "output_type": "stream",
          "text": [
            "\n"
          ],
          "name": "stdout"
        }
      ]
    },
    {
      "cell_type": "code",
      "metadata": {
        "id": "khbxNZ63rt_F"
      },
      "source": [
        ""
      ],
      "execution_count": null,
      "outputs": []
    }
  ]
}