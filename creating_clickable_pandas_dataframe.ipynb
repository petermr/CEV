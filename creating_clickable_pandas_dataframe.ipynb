{
  "nbformat": 4,
  "nbformat_minor": 0,
  "metadata": {
    "colab": {
      "name": "creating_clickable pandas_dataframe.ipynb",
      "provenance": [],
      "authorship_tag": "ABX9TyOphAZwNEoNZ9LmuS6Gnfcd",
      "include_colab_link": true
    },
    "kernelspec": {
      "name": "python3",
      "display_name": "Python 3"
    },
    "language_info": {
      "name": "python"
    }
  },
  "cells": [
    {
      "cell_type": "markdown",
      "metadata": {
        "id": "view-in-github",
        "colab_type": "text"
      },
      "source": [
        "<a href=\"https://colab.research.google.com/github/petermr/CEVOpen/blob/master/creating_clickable_pandas_dataframe.ipynb\" target=\"_parent\"><img src=\"https://colab.research.google.com/assets/colab-badge.svg\" alt=\"Open In Colab\"/></a>"
      ]
    },
    {
      "cell_type": "markdown",
      "source": [
        "# This notebook gives a demo on how to create a clikable pandas pd with hyperlink.\n",
        "\n",
        "In the pandas dataframe at the end of notebook, if you click on 'figure' it will take you the image file.\n",
        "Hope you enjoy learning his."
      ],
      "metadata": {
        "id": "0XKcM6yfA4Pb"
      }
    },
    {
      "cell_type": "code",
      "source": [
        "#downloading the classification csv file\n",
        "import gdown\n",
        "\n",
        "url = 'https://drive.google.com/uc?id=1oaRo79DF5aCHFZbW4iPgxrqrVpjgDqQY'\n",
        "output = 'classification.csv'\n",
        "gdown.download(url, output, quiet=False)\n"
      ],
      "metadata": {
        "colab": {
          "base_uri": "https://localhost:8080/",
          "height": 102
        },
        "id": "FOHe7Qwj_7l-",
        "outputId": "791f0ebe-aa23-4e24-a544-ed0bad1cb843"
      },
      "execution_count": 67,
      "outputs": [
        {
          "output_type": "stream",
          "name": "stderr",
          "text": [
            "Downloading...\n",
            "From: https://drive.google.com/uc?id=1oaRo79DF5aCHFZbW4iPgxrqrVpjgDqQY\n",
            "To: /content/classification.csv\n",
            "100%|██████████| 1.04k/1.04k [00:00<00:00, 569kB/s]\n"
          ]
        },
        {
          "output_type": "execute_result",
          "data": {
            "application/vnd.google.colaboratory.intrinsic+json": {
              "type": "string"
            },
            "text/plain": [
              "'classification.csv'"
            ]
          },
          "metadata": {},
          "execution_count": 67
        }
      ]
    },
    {
      "cell_type": "code",
      "source": [
        "# Step 1 : Importing required modules\n",
        "import pandas as pd\n",
        "import os\n",
        "\n",
        "# Step 2 : loading dataset of local path images\n",
        "import pandas as pd\n",
        "df = pd.read_csv('/content/classification.csv')\n",
        "\n",
        "# Step 3 : changing the name of the column containing links\n",
        "df = df.rename({'Unnamed: 5':'links'},axis =1)\n",
        "\n",
        "# Step 4 : re-arranging the columns\n",
        "df = df[['PMCID', 'Fig No.', 'links','Pathway', 'Metabolic', 'Terpene']]\n",
        "\n",
        "\n",
        "# Step 5 : Function to convert file path into clickable form.\n",
        "def hyperlink(path):\n",
        "\t\n",
        "    # returns the substring of a path\n",
        "    f_url= path.split(\"/\")[7]\n",
        "    #print(f_url)\n",
        "    \n",
        "    # convert the path into clickable link\n",
        "    return '<a href=\"{}\">{}</a>'.format(path, f_url)\n",
        "\n",
        "\n",
        "# Step 6 : applying function \"fun\" on column \"location\".\n",
        "df = df.style.format({'links': hyperlink})\n",
        "\n",
        "# Step 7 : Finally printing Dataframe\n",
        "df"
      ],
      "metadata": {
        "colab": {
          "base_uri": "https://localhost:8080/",
          "height": 357
        },
        "id": "jlfJWmLTzZTw",
        "outputId": "533883f5-2405-4465-b970-8f3a89e004ef"
      },
      "execution_count": 69,
      "outputs": [
        {
          "output_type": "execute_result",
          "data": {
            "text/html": [
              "<style  type=\"text/css\" >\n",
              "</style><table id=\"T_25865c10_745d_11ec_a2fc_0242ac1c0002\" class=\"dataframe\"><thead>    <tr>        <th class=\"blank level0\" ></th>        <th class=\"col_heading level0 col0\" >PMCID</th>        <th class=\"col_heading level0 col1\" >Fig No.</th>        <th class=\"col_heading level0 col2\" >links</th>        <th class=\"col_heading level0 col3\" >Pathway</th>        <th class=\"col_heading level0 col4\" >Metabolic</th>        <th class=\"col_heading level0 col5\" >Terpene</th>    </tr></thead><tbody>\n",
              "                <tr>\n",
              "                        <th id=\"T_25865c10_745d_11ec_a2fc_0242ac1c0002level0_row0\" class=\"row_heading level0 row0\" >0</th>\n",
              "                        <td id=\"T_25865c10_745d_11ec_a2fc_0242ac1c0002row0_col0\" class=\"data row0 col0\" >PMC6323817</td>\n",
              "                        <td id=\"T_25865c10_745d_11ec_a2fc_0242ac1c0002row0_col1\" class=\"data row0 col1\" >Fig. 6</td>\n",
              "                        <td id=\"T_25865c10_745d_11ec_a2fc_0242ac1c0002row0_col2\" class=\"data row0 col2\" ><a href=\"https://www.ncbi.nlm.nih.gov//pmc/articles/PMC6323817/figure/Fig6/\">figure</a></td>\n",
              "                        <td id=\"T_25865c10_745d_11ec_a2fc_0242ac1c0002row0_col3\" class=\"data row0 col3\" >Yes</td>\n",
              "                        <td id=\"T_25865c10_745d_11ec_a2fc_0242ac1c0002row0_col4\" class=\"data row0 col4\" >No</td>\n",
              "                        <td id=\"T_25865c10_745d_11ec_a2fc_0242ac1c0002row0_col5\" class=\"data row0 col5\" >No</td>\n",
              "            </tr>\n",
              "            <tr>\n",
              "                        <th id=\"T_25865c10_745d_11ec_a2fc_0242ac1c0002level0_row1\" class=\"row_heading level0 row1\" >1</th>\n",
              "                        <td id=\"T_25865c10_745d_11ec_a2fc_0242ac1c0002row1_col0\" class=\"data row1 col0\" >PMC6348685</td>\n",
              "                        <td id=\"T_25865c10_745d_11ec_a2fc_0242ac1c0002row1_col1\" class=\"data row1 col1\" >Fig. 4</td>\n",
              "                        <td id=\"T_25865c10_745d_11ec_a2fc_0242ac1c0002row1_col2\" class=\"data row1 col2\" ><a href=\"https://www.ncbi.nlm.nih.gov//pmc/articles/PMC6348685/figure/Fig4/\">figure</a></td>\n",
              "                        <td id=\"T_25865c10_745d_11ec_a2fc_0242ac1c0002row1_col3\" class=\"data row1 col3\" >Yes</td>\n",
              "                        <td id=\"T_25865c10_745d_11ec_a2fc_0242ac1c0002row1_col4\" class=\"data row1 col4\" >Yes</td>\n",
              "                        <td id=\"T_25865c10_745d_11ec_a2fc_0242ac1c0002row1_col5\" class=\"data row1 col5\" >Yes</td>\n",
              "            </tr>\n",
              "            <tr>\n",
              "                        <th id=\"T_25865c10_745d_11ec_a2fc_0242ac1c0002level0_row2\" class=\"row_heading level0 row2\" >2</th>\n",
              "                        <td id=\"T_25865c10_745d_11ec_a2fc_0242ac1c0002row2_col0\" class=\"data row2 col0\" >PMC6356271</td>\n",
              "                        <td id=\"T_25865c10_745d_11ec_a2fc_0242ac1c0002row2_col1\" class=\"data row2 col1\" >Fig. 2</td>\n",
              "                        <td id=\"T_25865c10_745d_11ec_a2fc_0242ac1c0002row2_col2\" class=\"data row2 col2\" ><a href=\"https://www.ncbi.nlm.nih.gov//pmc/articles/PMC6356271/figure/cells-08-00058-f002/\">figure</a></td>\n",
              "                        <td id=\"T_25865c10_745d_11ec_a2fc_0242ac1c0002row2_col3\" class=\"data row2 col3\" >Yes</td>\n",
              "                        <td id=\"T_25865c10_745d_11ec_a2fc_0242ac1c0002row2_col4\" class=\"data row2 col4\" >No</td>\n",
              "                        <td id=\"T_25865c10_745d_11ec_a2fc_0242ac1c0002row2_col5\" class=\"data row2 col5\" >No</td>\n",
              "            </tr>\n",
              "            <tr>\n",
              "                        <th id=\"T_25865c10_745d_11ec_a2fc_0242ac1c0002level0_row3\" class=\"row_heading level0 row3\" >3</th>\n",
              "                        <td id=\"T_25865c10_745d_11ec_a2fc_0242ac1c0002row3_col0\" class=\"data row3 col0\" >PMC6360084</td>\n",
              "                        <td id=\"T_25865c10_745d_11ec_a2fc_0242ac1c0002row3_col1\" class=\"data row3 col1\" >Fig. 8</td>\n",
              "                        <td id=\"T_25865c10_745d_11ec_a2fc_0242ac1c0002row3_col2\" class=\"data row3 col2\" ><a href=\"https://www.ncbi.nlm.nih.gov//pmc/articles/PMC6360084/figure/fig-8/\">figure</a></td>\n",
              "                        <td id=\"T_25865c10_745d_11ec_a2fc_0242ac1c0002row3_col3\" class=\"data row3 col3\" >Yes</td>\n",
              "                        <td id=\"T_25865c10_745d_11ec_a2fc_0242ac1c0002row3_col4\" class=\"data row3 col4\" >Yes</td>\n",
              "                        <td id=\"T_25865c10_745d_11ec_a2fc_0242ac1c0002row3_col5\" class=\"data row3 col5\" >Yes</td>\n",
              "            </tr>\n",
              "            <tr>\n",
              "                        <th id=\"T_25865c10_745d_11ec_a2fc_0242ac1c0002level0_row4\" class=\"row_heading level0 row4\" >4</th>\n",
              "                        <td id=\"T_25865c10_745d_11ec_a2fc_0242ac1c0002row4_col0\" class=\"data row4 col0\" >PMC6374618</td>\n",
              "                        <td id=\"T_25865c10_745d_11ec_a2fc_0242ac1c0002row4_col1\" class=\"data row4 col1\" >Fig. 4</td>\n",
              "                        <td id=\"T_25865c10_745d_11ec_a2fc_0242ac1c0002row4_col2\" class=\"data row4 col2\" ><a href=\"https://www.ncbi.nlm.nih.gov//pmc/articles/PMC6374618/figure/F4/\">figure</a></td>\n",
              "                        <td id=\"T_25865c10_745d_11ec_a2fc_0242ac1c0002row4_col3\" class=\"data row4 col3\" >Yes</td>\n",
              "                        <td id=\"T_25865c10_745d_11ec_a2fc_0242ac1c0002row4_col4\" class=\"data row4 col4\" >Yes</td>\n",
              "                        <td id=\"T_25865c10_745d_11ec_a2fc_0242ac1c0002row4_col5\" class=\"data row4 col5\" >Yes</td>\n",
              "            </tr>\n",
              "            <tr>\n",
              "                        <th id=\"T_25865c10_745d_11ec_a2fc_0242ac1c0002level0_row5\" class=\"row_heading level0 row5\" >5</th>\n",
              "                        <td id=\"T_25865c10_745d_11ec_a2fc_0242ac1c0002row5_col0\" class=\"data row5 col0\" >PMC6394206</td>\n",
              "                        <td id=\"T_25865c10_745d_11ec_a2fc_0242ac1c0002row5_col1\" class=\"data row5 col1\" >Fig. 5</td>\n",
              "                        <td id=\"T_25865c10_745d_11ec_a2fc_0242ac1c0002row5_col2\" class=\"data row5 col2\" ><a href=\"https://www.ncbi.nlm.nih.gov//pmc/articles/PMC6394206/figure/fig5/\">figure</a></td>\n",
              "                        <td id=\"T_25865c10_745d_11ec_a2fc_0242ac1c0002row5_col3\" class=\"data row5 col3\" >Yes</td>\n",
              "                        <td id=\"T_25865c10_745d_11ec_a2fc_0242ac1c0002row5_col4\" class=\"data row5 col4\" >Yes</td>\n",
              "                        <td id=\"T_25865c10_745d_11ec_a2fc_0242ac1c0002row5_col5\" class=\"data row5 col5\" >Yes</td>\n",
              "            </tr>\n",
              "            <tr>\n",
              "                        <th id=\"T_25865c10_745d_11ec_a2fc_0242ac1c0002level0_row6\" class=\"row_heading level0 row6\" >6</th>\n",
              "                        <td id=\"T_25865c10_745d_11ec_a2fc_0242ac1c0002row6_col0\" class=\"data row6 col0\" >PMC6412517</td>\n",
              "                        <td id=\"T_25865c10_745d_11ec_a2fc_0242ac1c0002row6_col1\" class=\"data row6 col1\" >Fig. 2</td>\n",
              "                        <td id=\"T_25865c10_745d_11ec_a2fc_0242ac1c0002row6_col2\" class=\"data row6 col2\" ><a href=\"https://www.ncbi.nlm.nih.gov//pmc/articles/PMC6412517/figure/ijms-20-00814-f002/\">figure</a></td>\n",
              "                        <td id=\"T_25865c10_745d_11ec_a2fc_0242ac1c0002row6_col3\" class=\"data row6 col3\" >Yes</td>\n",
              "                        <td id=\"T_25865c10_745d_11ec_a2fc_0242ac1c0002row6_col4\" class=\"data row6 col4\" >Yes</td>\n",
              "                        <td id=\"T_25865c10_745d_11ec_a2fc_0242ac1c0002row6_col5\" class=\"data row6 col5\" >Yes</td>\n",
              "            </tr>\n",
              "            <tr>\n",
              "                        <th id=\"T_25865c10_745d_11ec_a2fc_0242ac1c0002level0_row7\" class=\"row_heading level0 row7\" >7</th>\n",
              "                        <td id=\"T_25865c10_745d_11ec_a2fc_0242ac1c0002row7_col0\" class=\"data row7 col0\" >PMC6423058</td>\n",
              "                        <td id=\"T_25865c10_745d_11ec_a2fc_0242ac1c0002row7_col1\" class=\"data row7 col1\" >Fig. 2</td>\n",
              "                        <td id=\"T_25865c10_745d_11ec_a2fc_0242ac1c0002row7_col2\" class=\"data row7 col2\" ><a href=\"https://www.ncbi.nlm.nih.gov//pmc/articles/PMC6423058/figure/F2/\">figure</a></td>\n",
              "                        <td id=\"T_25865c10_745d_11ec_a2fc_0242ac1c0002row7_col3\" class=\"data row7 col3\" >Yes</td>\n",
              "                        <td id=\"T_25865c10_745d_11ec_a2fc_0242ac1c0002row7_col4\" class=\"data row7 col4\" >Yes</td>\n",
              "                        <td id=\"T_25865c10_745d_11ec_a2fc_0242ac1c0002row7_col5\" class=\"data row7 col5\" >Yes</td>\n",
              "            </tr>\n",
              "            <tr>\n",
              "                        <th id=\"T_25865c10_745d_11ec_a2fc_0242ac1c0002level0_row8\" class=\"row_heading level0 row8\" >8</th>\n",
              "                        <td id=\"T_25865c10_745d_11ec_a2fc_0242ac1c0002row8_col0\" class=\"data row8 col0\" >PMC6437448</td>\n",
              "                        <td id=\"T_25865c10_745d_11ec_a2fc_0242ac1c0002row8_col1\" class=\"data row8 col1\" >Fig. 1</td>\n",
              "                        <td id=\"T_25865c10_745d_11ec_a2fc_0242ac1c0002row8_col2\" class=\"data row8 col2\" ><a href=\"https://www.ncbi.nlm.nih.gov//pmc/articles/PMC6437448/figure/fig1/\">figure</a></td>\n",
              "                        <td id=\"T_25865c10_745d_11ec_a2fc_0242ac1c0002row8_col3\" class=\"data row8 col3\" >Yes</td>\n",
              "                        <td id=\"T_25865c10_745d_11ec_a2fc_0242ac1c0002row8_col4\" class=\"data row8 col4\" >Yes</td>\n",
              "                        <td id=\"T_25865c10_745d_11ec_a2fc_0242ac1c0002row8_col5\" class=\"data row8 col5\" >Yes</td>\n",
              "            </tr>\n",
              "            <tr>\n",
              "                        <th id=\"T_25865c10_745d_11ec_a2fc_0242ac1c0002level0_row9\" class=\"row_heading level0 row9\" >9</th>\n",
              "                        <td id=\"T_25865c10_745d_11ec_a2fc_0242ac1c0002row9_col0\" class=\"data row9 col0\" >PMC6441073</td>\n",
              "                        <td id=\"T_25865c10_745d_11ec_a2fc_0242ac1c0002row9_col1\" class=\"data row9 col1\" >Fig. 3</td>\n",
              "                        <td id=\"T_25865c10_745d_11ec_a2fc_0242ac1c0002row9_col2\" class=\"data row9 col2\" ><a href=\"https://www.ncbi.nlm.nih.gov//pmc/articles/PMC6441073/figure/Fig3/\">figure</a></td>\n",
              "                        <td id=\"T_25865c10_745d_11ec_a2fc_0242ac1c0002row9_col3\" class=\"data row9 col3\" >Yes</td>\n",
              "                        <td id=\"T_25865c10_745d_11ec_a2fc_0242ac1c0002row9_col4\" class=\"data row9 col4\" >No</td>\n",
              "                        <td id=\"T_25865c10_745d_11ec_a2fc_0242ac1c0002row9_col5\" class=\"data row9 col5\" >No</td>\n",
              "            </tr>\n",
              "    </tbody></table>"
            ],
            "text/plain": [
              "<pandas.io.formats.style.Styler at 0x7f4d4def1cd0>"
            ]
          },
          "metadata": {},
          "execution_count": 69
        }
      ]
    }
  ]
}