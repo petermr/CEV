pip install ipython
pip install wheel
pip install GDAL
pip install en-core-web-sm-abd
pip install geopy
pip install numpy
pip install GDAL
pip install matplotlib
pip install pandas
pip install geopandas
pip install geotext
pip install urllib3
pip install shapely
pip install csv
pip install plotly_express
pip install python-csv
pip install elementpath

#importlibraries
import numpy as np
import matplotlib.pyplot as plt
%matplotlib inline

import pandas as pd
import geopandas as gpd

from urllib import request
from geotext import GeoText

from geopy.geocoders import Nominatim
from geopy.exc import GeocoderTimedOut

from shapely.geometry import Point, Polygon
import descartes

#import libraries for xml parsing
import csv
import plotly_express as px
import elementpath
import xml.etree.ElementTree as ET
import os

#code up for review, causing problems 
#receiving error that attribute tostring is not found
#def xml_parse(xml_file):
 # tree = ET.parse(xml_file)
  #return tree.tostring()

#entries = os.listdir()
#def filter_xml(file):
  #if file.endswith('.xml'):
    #return True
  #return False

#xml_files = filter(filter_xml, entries)
#for xml_file in xml_files:
  #geo = Geoparser()
  #plain_text = xml_parse(xml_file)
  #geo.geoparse(plain_text)

#places = GeoText(plain_text)
#cities = list(places.cities)
#cities


raw = '0: Raw material.Thyme was harvested during the flowering season (July 2012) from the area around the Brosteni commune  Mehedinti County, Romania.The plant material was dried in well-ventilated areas, sheltered from direct sunlight and then stored in double-layered paper bags at temperatures of 3-5C until processing.A voucher specimen (V.FPT-451) was deposited in the Herbarium of the Faculty of Pharmacy, Victor Babes University of Medicine and Pharmacy, Timisoara, Romania.'
print(raw)

#getting error geotext is not def when it has alr been installed and imported, suggestions?
#name error in this section
places = GeoText(raw)
print(places.cities)


#getting coordinates from location names using Nominatim from Geopy
geolocator = Nominatim(timeout=2)

lat_lon = []
for city in cities: 
    try:
        location = geolocator.geocode(city)
        if location:
            print(location.latitude, location.longitude)
            lat_lon.append(location)
    except GeocoderTimedOut as e:
        print("Error: geocode failed on input %s with message %s"%
            (city, e))
lat_lon

#creating dataframe in pandas
df = pd.DataFrame(lat_lon, columns=['City Name', 'Coordinates'])
df.head(7)

#converting df into geo dataframe in geopandas
geometry = [Point(x[1], x[0]) for x in df['Coordinates']]
geometry[:7]


# coordinate system I'm using
crs = {'init': 'epsg:4326'}

# convert df to geo df
geo_df = gpd.GeoDataFrame(df, crs=crs, geometry=geometry)
geo_df.head()
