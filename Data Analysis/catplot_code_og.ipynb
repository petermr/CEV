{
 "cells": [
  {
   "cell_type": "code",
   "execution_count": null,
   "metadata": {},
   "outputs": [],
   "source": [
    "#import libararies\r\n",
    "import seaborn as sns\r\n",
    "import matplotlib.pyplot as plt\r\n",
    "sns.set_theme(style=\"ticks\", color_codes=True)"
   ]
  },
  {
   "cell_type": "code",
   "execution_count": null,
   "metadata": {},
   "outputs": [],
   "source": [
    "#random amount of jitter\r\n",
    "df = sns.load_dataset(\"df\")\r\n",
    "sns.catplot(x=\"v1\", y=\"v2\", data=df)"
   ]
  },
  {
   "cell_type": "code",
   "execution_count": null,
   "metadata": {},
   "outputs": [],
   "source": [
    "#added jitter parameter\r\n",
    "#controls jitter or completely disables it\r\n",
    "sns.catplot(x=\"v1\", y=\"v2\", jitter=False, data=df)"
   ]
  },
  {
   "cell_type": "code",
   "execution_count": null,
   "metadata": {},
   "outputs": [],
   "source": [
    "#using a swarm plot\r\n",
    "#algorithm to prevent overlapping of points\r\n",
    "#only good for relatively smaller datasets\r\n",
    "sns.catplot(x=\"v1\", y=\"v2\", kind=\"swarm\", data=df)"
   ]
  },
  {
   "cell_type": "code",
   "execution_count": null,
   "metadata": {},
   "outputs": [],
   "source": [
    "#adding hue to the graphs\r\n",
    "#useful when we want to add another dimension to the plot\r\n",
    "sns.catplot(x=\"v1\", y=\"v2\", hue=\"v3\", kind=\"swarm\", data=df)"
   ]
  },
  {
   "cell_type": "code",
   "execution_count": null,
   "metadata": {},
   "outputs": [],
   "source": [
    "#controlling the ordering of the dataset\r\n",
    "#imp when we have multiple categorical plots in same fig\r\n",
    "sns.catplot(x=\"v1\", y=\"v1\", order=[\"No\", \"Yes\"], data=df)"
   ]
  },
  {
   "cell_type": "code",
   "execution_count": null,
   "metadata": {},
   "outputs": [],
   "source": [
    "#when you want categorical attributes on y axis\r\n",
    "#useful when we have a lot of categories or the category names are long\r\n",
    "#swapped assignment of variables\r\n",
    "sns.catplot(x=\"v1\", y=\"v2\", hue=\"v3\", kind=\"swarm\", data=df)"
   ]
  }
 ],
 "metadata": {
  "interpreter": {
   "hash": "a12d694c3ccac42055183a0ad11e659c6a2db5c6555ad2c8919d5814fd4e404f"
  },
  "kernelspec": {
   "display_name": "Python 3.9.2 64-bit",
   "name": "python3"
  },
  "language_info": {
   "name": "python",
   "version": ""
  },
  "orig_nbformat": 4
 },
 "nbformat": 4,
 "nbformat_minor": 2
}