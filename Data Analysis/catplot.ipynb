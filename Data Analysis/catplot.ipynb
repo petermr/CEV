#import libararies
import seaborn as sns
import matplotlib.pyplot as plt
sns.set_theme(style="ticks", color_codes=True)

#random amount of jitter
df = sns.load_dataset("df")
sns.catplot(x="v1", y="v2", data=df)

#added jitter parameter
#controls jitter or completely disables it
sns.catplot(x="v1", y="v2", jitter=False, data=df)

#using a swarm plot
#algorithm to prevent overlapping of points
#only good for relatively smaller datasets
sns.catplot(x="v1", y="v2", kind="swarm", data=df)

#adding hue to the graphs
#useful when we want to add another dimension to the plot
sns.catplot(x="v1", y="v2", hue="v3", kind="swarm", data=df)

#controlling the ordering of the dataset
#imp when we have multiple categorical plots in same fig
sns.catplot(x="v1", y="v1", order=["No", "Yes"], data=df)

#when you want categorical attributes on y axis
#useful when we have a lot of categories or the category names are long
#swapped assignment of variables
sns.catplot(x="v1", y="v2", hue="v3", kind="swarm", data=df)
